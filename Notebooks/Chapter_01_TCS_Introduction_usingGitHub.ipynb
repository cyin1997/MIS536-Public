{
  "nbformat": 4,
  "nbformat_minor": 0,
  "metadata": {
    "kernelspec": {
      "display_name": "Python 3",
      "language": "python",
      "name": "python3"
    },
    "language_info": {
      "codemirror_mode": {
        "name": "ipython",
        "version": 3
      },
      "file_extension": ".py",
      "mimetype": "text/x-python",
      "name": "python",
      "nbconvert_exporter": "python",
      "pygments_lexer": "ipython3",
      "version": "3.7.1"
    },
    "colab": {
      "name": "Chapter_01_TCS_Introduction-usingGitHub.ipynb",
      "provenance": [],
      "collapsed_sections": [],
      "toc_visible": true
    }
  },
  "cells": [
    {
      "cell_type": "markdown",
      "metadata": {
        "id": "RmAmzi40WXM1",
        "colab_type": "text"
      },
      "source": [
        "# Chapter 1: Introduction\n",
        "\n",
        "> (c) 2019 Galit Shmueli, Peter C. Bruce, Peter Gedeck \n",
        ">\n",
        "> * Edits and additional content added by Dr. T. Smith (timsmith@iastate.edu) (Fall, 2020)"
      ]
    },
    {
      "cell_type": "code",
      "metadata": {
        "id": "3UBCDKDbWXM2",
        "colab_type": "code",
        "colab": {}
      },
      "source": [
        "# the following \"magic\" command will result in displaying all figures inside the notebook \n",
        "# note: in most notbook installations, this is usually the default, but it is good to make sure)\n",
        "%matplotlib inline \n",
        "\n",
        "import pandas as pd # libarary for dataframes (and other)\n",
        "import matplotlib.pylab as plt # library for graphing/plotting figures\n"
      ],
      "execution_count": 53,
      "outputs": []
    },
    {
      "cell_type": "markdown",
      "metadata": {
        "id": "ebx5B8h5WXM6",
        "colab_type": "text"
      },
      "source": [
        "## Figure 1.1"
      ]
    },
    {
      "cell_type": "markdown",
      "metadata": {
        "id": "_xfioeYZfPPo",
        "colab_type": "text"
      },
      "source": [
        "Let's load the data. This data records three features (Income, Lot_Size and Riding Mower Ownership of a sample of 24 home owners.\n"
      ]
    },
    {
      "cell_type": "code",
      "metadata": {
        "id": "Jb_UsQDlWXM6",
        "colab_type": "code",
        "colab": {
          "base_uri": "https://localhost:8080/",
          "height": 297
        },
        "outputId": "98489c38-9818-410d-8ed4-9d52062353b4"
      },
      "source": [
        "mower_df = pd.read_csv(\"https://github.com/timcsmith/MIS536-Public/raw/master/Data/RidingMowers.csv\") # load the data (you will need to ensure the csv file is in your colab folder)\n",
        "mower_df.head(8) # head displays a number of records (observations). Here, 8 will be displayed. If no number is given, the default is 5."
      ],
      "execution_count": 54,
      "outputs": [
        {
          "output_type": "execute_result",
          "data": {
            "text/html": [
              "<div>\n",
              "<style scoped>\n",
              "    .dataframe tbody tr th:only-of-type {\n",
              "        vertical-align: middle;\n",
              "    }\n",
              "\n",
              "    .dataframe tbody tr th {\n",
              "        vertical-align: top;\n",
              "    }\n",
              "\n",
              "    .dataframe thead th {\n",
              "        text-align: right;\n",
              "    }\n",
              "</style>\n",
              "<table border=\"1\" class=\"dataframe\">\n",
              "  <thead>\n",
              "    <tr style=\"text-align: right;\">\n",
              "      <th></th>\n",
              "      <th>Income</th>\n",
              "      <th>Lot_Size</th>\n",
              "      <th>Ownership</th>\n",
              "    </tr>\n",
              "  </thead>\n",
              "  <tbody>\n",
              "    <tr>\n",
              "      <th>0</th>\n",
              "      <td>60.0</td>\n",
              "      <td>18.4</td>\n",
              "      <td>Owner</td>\n",
              "    </tr>\n",
              "    <tr>\n",
              "      <th>1</th>\n",
              "      <td>85.5</td>\n",
              "      <td>16.8</td>\n",
              "      <td>Owner</td>\n",
              "    </tr>\n",
              "    <tr>\n",
              "      <th>2</th>\n",
              "      <td>64.8</td>\n",
              "      <td>21.6</td>\n",
              "      <td>Owner</td>\n",
              "    </tr>\n",
              "    <tr>\n",
              "      <th>3</th>\n",
              "      <td>61.5</td>\n",
              "      <td>20.8</td>\n",
              "      <td>Owner</td>\n",
              "    </tr>\n",
              "    <tr>\n",
              "      <th>4</th>\n",
              "      <td>87.0</td>\n",
              "      <td>23.6</td>\n",
              "      <td>Owner</td>\n",
              "    </tr>\n",
              "    <tr>\n",
              "      <th>5</th>\n",
              "      <td>110.1</td>\n",
              "      <td>19.2</td>\n",
              "      <td>Owner</td>\n",
              "    </tr>\n",
              "    <tr>\n",
              "      <th>6</th>\n",
              "      <td>108.0</td>\n",
              "      <td>17.6</td>\n",
              "      <td>Owner</td>\n",
              "    </tr>\n",
              "    <tr>\n",
              "      <th>7</th>\n",
              "      <td>82.8</td>\n",
              "      <td>22.4</td>\n",
              "      <td>Owner</td>\n",
              "    </tr>\n",
              "  </tbody>\n",
              "</table>\n",
              "</div>"
            ],
            "text/plain": [
              "   Income  Lot_Size Ownership\n",
              "0    60.0      18.4     Owner\n",
              "1    85.5      16.8     Owner\n",
              "2    64.8      21.6     Owner\n",
              "3    61.5      20.8     Owner\n",
              "4    87.0      23.6     Owner\n",
              "5   110.1      19.2     Owner\n",
              "6   108.0      17.6     Owner\n",
              "7    82.8      22.4     Owner"
            ]
          },
          "metadata": {
            "tags": []
          },
          "execution_count": 54
        }
      ]
    },
    {
      "cell_type": "markdown",
      "metadata": {
        "id": "W_8tlJnugh4c",
        "colab_type": "text"
      },
      "source": [
        "## Create a visualization of the data\n",
        "\n",
        "Use matplotlib to create two visualizations; and models (we will discuss \"models\" in greater depth at a later time)."
      ]
    },
    {
      "cell_type": "code",
      "metadata": {
        "id": "QAWFRPT8WXM-",
        "colab_type": "code",
        "colab": {
          "base_uri": "https://localhost:8080/",
          "height": 323
        },
        "outputId": "a8a9909d-db77-419d-9221-50175de1001d"
      },
      "source": [
        "#########################\n",
        "# STEP1 - Create the drawing area in which we will place of plots\n",
        "#########################\n",
        "\n",
        "fig = plt.figure() # this creates a figure - sort of a drawing space to create our plot\n",
        "\n",
        "fig.suptitle(\"Figure 1: MIS 536\", multialignment='center', wrap=True, y=1.05) # add centered title to figure \n",
        "# more on subtitle here https://matplotlib.org/3.1.1/api/_as_gen/matplotlib.pyplot.suptitle.html\n",
        "# note the use of y=1.1 in the above. The y (and x) coordinates in a figure go from 0 to 1. If we provide a value greater than 1, \n",
        "# we are displaying further aware from the figure - in this case, a value of 1.05 provide more space between the\n",
        "# title on the plots below. You can adjust this value to match your own taste. \n",
        "\n",
        "#########################\n",
        "# STEP2: Create two subplot areas\n",
        "#########################\n",
        "\n",
        "####\n",
        "# STEP2a - Create First subplot (ax1)\n",
        "\n",
        "# create a 1x2 plot area, and create a subplot area situated in the first location (to the left)\n",
        "ax1 = fig.add_subplot(121, title=\"Model 1\") # within a 1x2 grid, add ax1 as the first plot\n",
        "# more on add_subplot here https://matplotlib.org/api/_as_gen/matplotlib.pyplot.subplot.html\n",
        "\n",
        "# now, we draw the subplot (ax1) by creating a scatter plot of our data\n",
        "\n",
        "# here we select only the records in our data that are \"owners\" of mowers..\n",
        "# then add a scatter plot of this data to our figure\n",
        "mower_df.loc[mower_df.Ownership=='Owner'].plot(x='Income', y='Lot_Size', style='o', \n",
        "                                                   markerfacecolor='C0', markeredgecolor='C0', ax=ax1)\n",
        "\n",
        "# here we select only the records in our data that are \"Nonowner\" of mowers..\n",
        "# then add a scatter plot of this data to our figure\n",
        "mower_df.loc[mower_df.Ownership=='Nonowner'].plot(x='Income', y='Lot_Size', style='o',\n",
        "                                                      markerfacecolor='none', markeredgecolor='C1', ax=ax1)\n",
        "\n",
        "# add legend and and axes data\n",
        "ax1.legend([\"Owner\", \"Nonowner\"], framealpha=0.5);\n",
        "ax1.set_xlim((20, 120))\n",
        "ax1.set_ylim((13, 25))\n",
        "ax1.set_xlabel('Income ($000s)')\n",
        "ax1.set_ylabel('Lot Size (000s sqft)')\n",
        "\n",
        "# now, draw a predictive (decision tree) model on plot1\n",
        "y0, y1, y2 = 21.3, 19.8, 16.4\n",
        "x0, x1, x2 = 55, 58, 95\n",
        "ax1.plot((20, x0), (y0,y0), color='grey')\n",
        "ax1.plot((20, 120), (y1,y1), color='grey')\n",
        "ax1.plot((x1, x2), (y2,y2), color='grey')\n",
        "ax1.plot((x0, x0), (25,y1), color='grey')\n",
        "ax1.plot((x1, x1), (y1,13), color='grey')\n",
        "ax1.plot((x2, x2), (y1,13), color='grey')\n",
        "\n",
        "####\n",
        "# Step 2b: Create second subplot (ax2)\n",
        "\n",
        "# within a 1x2 plot area (1 row, 2 columns), and create a subplot area situated in the second location (to the right)\n",
        "ax2 = fig.add_subplot(122, title=\"Model 2\") # within a 1x2 grid, add ax1 as the first plot\n",
        "\n",
        "# here we select only the records in our data that are \"Nonowner\" of mowers..\n",
        "# then add a scatter plot of this data to our figure\n",
        "mower_df.loc[mower_df.Ownership=='Owner'].plot(x='Income', y='Lot_Size', style='o', \n",
        "                                                   markerfacecolor='C0', markeredgecolor='C0', ax=ax2)\n",
        "mower_df.loc[mower_df.Ownership=='Nonowner'].plot(x='Income', y='Lot_Size', style='o',\n",
        "                                                      markerfacecolor='none', markeredgecolor='C1', ax=ax2)\n",
        "# add legend and and axes data\n",
        "\n",
        "\n",
        "ax2.legend([\"Owner\", \"Nonowner\"], framealpha=0.5);\n",
        "ax2.set_xlim((20, 120))\n",
        "ax2.set_ylim((13, 25))\n",
        "ax2.set_xlabel('Income ($000s)')\n",
        "ax2.set_ylabel('Lot Size (000s sqft)')\n",
        "\n",
        "# now, draw a predictive (linear) model on plot1\n",
        "ax2.plot((40, 95), (25,13), color='grey')\n",
        "\n",
        "####################\n",
        "# Step3: Display the figure to the screen and save a copy to a file graphics file to be used later in a report (or other)\n",
        "####################\n",
        "\n",
        "# Set the layout style of the figure\n",
        "fig.tight_layout()\n",
        "# Safe a copy of the figure to a file (can be used to insert into a word document, or other)\n",
        "fig.savefig(\"fig01.png\", format=\"png\")\n",
        "# display the figure to the screen\n",
        "fig.show()\n"
      ],
      "execution_count": 55,
      "outputs": [
        {
          "output_type": "display_data",
          "data": {
            "image/png": "[encoded data removed]",
            "text/plain": [
              "<Figure size 432x288 with 2 Axes>"
            ]
          },
          "metadata": {
            "tags": [],
            "needs_background": "light"
          }
        }
      ]
    }
  ]
}