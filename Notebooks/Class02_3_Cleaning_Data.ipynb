{
  "nbformat": 4,
  "nbformat_minor": 0,
  "metadata": {
    "kernelspec": {
      "display_name": "Python 3",
      "language": "python",
      "name": "python3"
    },
    "language_info": {
      "codemirror_mode": {
        "name": "ipython",
        "version": 3
      },
      "file_extension": ".py",
      "mimetype": "text/x-python",
      "name": "python",
      "nbconvert_exporter": "python",
      "pygments_lexer": "ipython3",
      "version": "3.7.1"
    },
    "colab": {
      "name": "Copy of Copy of Class02_3_Cleaning_Data.ipynb",
      "provenance": [],
      "collapsed_sections": [],
      "toc_visible": true,
      "include_colab_link": true
    }
  },
  "cells": [
    {
      "cell_type": "markdown",
      "metadata": {
        "id": "view-in-github",
        "colab_type": "text"
      },
      "source": [
        "<a href=\"https://colab.research.google.com/github/timcsmith/MIS536-Public/blob/master/Notebooks/Class02_3_Cleaning_Data.ipynb\" target=\"_parent\"><img src=\"https://colab.research.google.com/assets/colab-badge.svg\" alt=\"Open In Colab\"/></a>"
      ]
    },
    {
      "cell_type": "markdown",
      "metadata": {
        "id": "RmAmzi40WXM1",
        "colab_type": "text"
      },
      "source": [
        "\n",
        "# Class 2 Part 3: Retrieving data found within a DataFrame\n",
        "\n",
        "Author: Dr. T. Smith (timsmith@iastate.edu) (Fall, 2020)\n",
        "\n",
        "DataFrames are a powerful pandas data type that stores data in tabular form (rows and columns). \n",
        "\n",
        "Let's explore a few basic operations to display and select data found within a dataFrame.\n"
      ]
    },
    {
      "cell_type": "code",
      "metadata": {
        "id": "3UBCDKDbWXM2",
        "colab_type": "code",
        "colab": {}
      },
      "source": [
        "import pandas as pd # libarary for dataframes (and other)\n",
        "import numpy as np # numpy library"
      ],
      "execution_count": null,
      "outputs": []
    },
    {
      "cell_type": "code",
      "metadata": {
        "id": "hokOAwkQ7u7n",
        "colab_type": "code",
        "colab": {}
      },
      "source": [
        "# Load data into dataframe\n",
        "housing_df = pd.read_csv(\"https://github.com/timcsmith/MIS536-Public/raw/master/Data/WestRoxbury.csv\")"
      ],
      "execution_count": null,
      "outputs": []
    },
    {
      "cell_type": "markdown",
      "metadata": {
        "id": "RosfjvmdDbtL",
        "colab_type": "text"
      },
      "source": [
        "## Renaming Columns\n"
      ]
    },
    {
      "cell_type": "markdown",
      "metadata": {
        "id": "tKqF85YiZePv",
        "colab_type": "text"
      },
      "source": [
        "### Geting list of columns"
      ]
    },
    {
      "cell_type": "code",
      "metadata": {
        "id": "fiyBG4OoZd9N",
        "colab_type": "code",
        "colab": {
          "base_uri": "https://localhost:8080/",
          "height": 85
        },
        "outputId": "b185f68c-b8c2-4b2b-939f-be07aa745678"
      },
      "source": [
        "housing_df.columns"
      ],
      "execution_count": null,
      "outputs": [
        {
          "output_type": "execute_result",
          "data": {
            "text/plain": [
              "Index(['TOTAL VALUE ', 'TAX', 'LOT SQFT ', 'YR BUILT', 'GROSS AREA ',\n",
              "       'LIVING AREA', 'FLOORS ', 'ROOMS', 'BEDROOMS ', 'FULL BATH',\n",
              "       'HALF BATH', 'KITCHEN', 'FIREPLACE', 'REMODEL'],\n",
              "      dtype='object')"
            ]
          },
          "metadata": {
            "tags": []
          },
          "execution_count": 3
        }
      ]
    },
    {
      "cell_type": "markdown",
      "metadata": {
        "id": "DlVAwfCYZoBa",
        "colab_type": "text"
      },
      "source": [
        "### Explicit renaming of column\n"
      ]
    },
    {
      "cell_type": "code",
      "metadata": {
        "id": "JBFxhfRQCkTa",
        "colab_type": "code",
        "colab": {}
      },
      "source": [
        "housing_df = housing_df.rename(columns={'TOTAL VALUE ': 'TOTAL_VALUE'})# explicit"
      ],
      "execution_count": null,
      "outputs": []
    },
    {
      "cell_type": "markdown",
      "metadata": {
        "id": "HahVvfAZZsMe",
        "colab_type": "text"
      },
      "source": [
        "### Renaminging columns based on code (dynamically)\n",
        "\n"
      ]
    },
    {
      "cell_type": "code",
      "metadata": {
        "id": "7bUC8Wc0Zcb6",
        "colab_type": "code",
        "colab": {}
      },
      "source": [
        "housing_df.columns = [s.strip().replace(' ','_') for s in housing_df.columns] # list comprehension, all columns"
      ],
      "execution_count": null,
      "outputs": []
    },
    {
      "cell_type": "markdown",
      "metadata": {
        "id": "TjCRYQkiDh7d",
        "colab_type": "text"
      },
      "source": [
        "## Renaming Rows\n",
        "\n"
      ]
    },
    {
      "cell_type": "markdown",
      "metadata": {
        "id": "C2ZWeabeZ1Yr",
        "colab_type": "text"
      },
      "source": [
        "### Getting list of rows"
      ]
    },
    {
      "cell_type": "code",
      "metadata": {
        "id": "UHjN3L3VZ38h",
        "colab_type": "code",
        "colab": {
          "base_uri": "https://localhost:8080/",
          "height": 34
        },
        "outputId": "172355e3-7484-411b-a51d-3de2a1a4c6ae"
      },
      "source": [
        "housing_df.index.values"
      ],
      "execution_count": null,
      "outputs": [
        {
          "output_type": "execute_result",
          "data": {
            "text/plain": [
              "array([   0,    1,    2, ..., 5799, 5800, 5801])"
            ]
          },
          "metadata": {
            "tags": []
          },
          "execution_count": 6
        }
      ]
    },
    {
      "cell_type": "markdown",
      "metadata": {
        "id": "lDZ0BpJ0bbxK",
        "colab_type": "text"
      },
      "source": [
        "Notice that the code above provides a numpy array. \n",
        "\n",
        "There are times where we want to create a data frame from array data..."
      ]
    },
    {
      "cell_type": "code",
      "metadata": {
        "id": "HA34qtZJaM3f",
        "colab_type": "code",
        "colab": {
          "base_uri": "https://localhost:8080/",
          "height": 419
        },
        "outputId": "f2cc08f9-cd7e-4398-89d1-41ef871f3adf"
      },
      "source": [
        "rows_df = pd.DataFrame() # create an empty dataframe\n",
        "rows_df['ROWS']= housing_df.index.values # get the index values (aka rows indexes)\n",
        "rows_df # display result"
      ],
      "execution_count": null,
      "outputs": [
        {
          "output_type": "execute_result",
          "data": {
            "text/html": [
              "<div>\n",
              "<style scoped>\n",
              "    .dataframe tbody tr th:only-of-type {\n",
              "        vertical-align: middle;\n",
              "    }\n",
              "\n",
              "    .dataframe tbody tr th {\n",
              "        vertical-align: top;\n",
              "    }\n",
              "\n",
              "    .dataframe thead th {\n",
              "        text-align: right;\n",
              "    }\n",
              "</style>\n",
              "<table border=\"1\" class=\"dataframe\">\n",
              "  <thead>\n",
              "    <tr style=\"text-align: right;\">\n",
              "      <th></th>\n",
              "      <th>ROWS</th>\n",
              "    </tr>\n",
              "  </thead>\n",
              "  <tbody>\n",
              "    <tr>\n",
              "      <th>0</th>\n",
              "      <td>0</td>\n",
              "    </tr>\n",
              "    <tr>\n",
              "      <th>1</th>\n",
              "      <td>1</td>\n",
              "    </tr>\n",
              "    <tr>\n",
              "      <th>2</th>\n",
              "      <td>2</td>\n",
              "    </tr>\n",
              "    <tr>\n",
              "      <th>3</th>\n",
              "      <td>3</td>\n",
              "    </tr>\n",
              "    <tr>\n",
              "      <th>4</th>\n",
              "      <td>4</td>\n",
              "    </tr>\n",
              "    <tr>\n",
              "      <th>...</th>\n",
              "      <td>...</td>\n",
              "    </tr>\n",
              "    <tr>\n",
              "      <th>5797</th>\n",
              "      <td>5797</td>\n",
              "    </tr>\n",
              "    <tr>\n",
              "      <th>5798</th>\n",
              "      <td>5798</td>\n",
              "    </tr>\n",
              "    <tr>\n",
              "      <th>5799</th>\n",
              "      <td>5799</td>\n",
              "    </tr>\n",
              "    <tr>\n",
              "      <th>5800</th>\n",
              "      <td>5800</td>\n",
              "    </tr>\n",
              "    <tr>\n",
              "      <th>5801</th>\n",
              "      <td>5801</td>\n",
              "    </tr>\n",
              "  </tbody>\n",
              "</table>\n",
              "<p>5802 rows × 1 columns</p>\n",
              "</div>"
            ],
            "text/plain": [
              "      ROWS\n",
              "0        0\n",
              "1        1\n",
              "2        2\n",
              "3        3\n",
              "4        4\n",
              "...    ...\n",
              "5797  5797\n",
              "5798  5798\n",
              "5799  5799\n",
              "5800  5800\n",
              "5801  5801\n",
              "\n",
              "[5802 rows x 1 columns]"
            ]
          },
          "metadata": {
            "tags": []
          },
          "execution_count": 7
        }
      ]
    },
    {
      "cell_type": "markdown",
      "metadata": {
        "id": "4b4MOV3Wb81x",
        "colab_type": "text"
      },
      "source": [
        "### Renaming rows based on code (dyamically)\n"
      ]
    },
    {
      "cell_type": "markdown",
      "metadata": {
        "id": "an9fsG-tdm3C",
        "colab_type": "text"
      },
      "source": [
        "To preserve our original housing_df data, we'll take two copies and store them in tmp1_df and temp2_df."
      ]
    },
    {
      "cell_type": "code",
      "metadata": {
        "id": "B8K6_L7Fcwya",
        "colab_type": "code",
        "colab": {}
      },
      "source": [
        "tmp1_df = housing_df.copy()\n",
        "tmp2_df = housing_df.copy()"
      ],
      "execution_count": null,
      "outputs": []
    },
    {
      "cell_type": "markdown",
      "metadata": {
        "id": "Tx_4UxFXdwJm",
        "colab_type": "text"
      },
      "source": [
        "Notice that all the row indices are integers from 0 to the end. Let's add 100 to every current index value...\n"
      ]
    },
    {
      "cell_type": "code",
      "metadata": {
        "id": "DmqAL1fMdH4K",
        "colab_type": "code",
        "colab": {
          "base_uri": "https://localhost:8080/",
          "height": 419
        },
        "outputId": "1cbc1737-a383-414c-bc01-ade2d81c974e"
      },
      "source": [
        "tmp2_df.rename(index=lambda s: s + 100)"
      ],
      "execution_count": null,
      "outputs": [
        {
          "output_type": "execute_result",
          "data": {
            "text/html": [
              "<div>\n",
              "<style scoped>\n",
              "    .dataframe tbody tr th:only-of-type {\n",
              "        vertical-align: middle;\n",
              "    }\n",
              "\n",
              "    .dataframe tbody tr th {\n",
              "        vertical-align: top;\n",
              "    }\n",
              "\n",
              "    .dataframe thead th {\n",
              "        text-align: right;\n",
              "    }\n",
              "</style>\n",
              "<table border=\"1\" class=\"dataframe\">\n",
              "  <thead>\n",
              "    <tr style=\"text-align: right;\">\n",
              "      <th></th>\n",
              "      <th>TOTAL_VALUE</th>\n",
              "      <th>TAX</th>\n",
              "      <th>LOT_SQFT</th>\n",
              "      <th>YR_BUILT</th>\n",
              "      <th>GROSS_AREA</th>\n",
              "      <th>LIVING_AREA</th>\n",
              "      <th>FLOORS</th>\n",
              "      <th>ROOMS</th>\n",
              "      <th>BEDROOMS</th>\n",
              "      <th>FULL_BATH</th>\n",
              "      <th>HALF_BATH</th>\n",
              "      <th>KITCHEN</th>\n",
              "      <th>FIREPLACE</th>\n",
              "      <th>REMODEL</th>\n",
              "    </tr>\n",
              "  </thead>\n",
              "  <tbody>\n",
              "    <tr>\n",
              "      <th>100</th>\n",
              "      <td>344.2</td>\n",
              "      <td>4330</td>\n",
              "      <td>9965</td>\n",
              "      <td>1880</td>\n",
              "      <td>2436</td>\n",
              "      <td>1352</td>\n",
              "      <td>2.0</td>\n",
              "      <td>6</td>\n",
              "      <td>3</td>\n",
              "      <td>1</td>\n",
              "      <td>1</td>\n",
              "      <td>1</td>\n",
              "      <td>0</td>\n",
              "      <td>None</td>\n",
              "    </tr>\n",
              "    <tr>\n",
              "      <th>101</th>\n",
              "      <td>412.6</td>\n",
              "      <td>5190</td>\n",
              "      <td>6590</td>\n",
              "      <td>1945</td>\n",
              "      <td>3108</td>\n",
              "      <td>1976</td>\n",
              "      <td>2.0</td>\n",
              "      <td>10</td>\n",
              "      <td>4</td>\n",
              "      <td>2</td>\n",
              "      <td>1</td>\n",
              "      <td>1</td>\n",
              "      <td>0</td>\n",
              "      <td>Recent</td>\n",
              "    </tr>\n",
              "    <tr>\n",
              "      <th>102</th>\n",
              "      <td>330.1</td>\n",
              "      <td>4152</td>\n",
              "      <td>7500</td>\n",
              "      <td>1890</td>\n",
              "      <td>2294</td>\n",
              "      <td>1371</td>\n",
              "      <td>2.0</td>\n",
              "      <td>8</td>\n",
              "      <td>4</td>\n",
              "      <td>1</td>\n",
              "      <td>1</td>\n",
              "      <td>1</td>\n",
              "      <td>0</td>\n",
              "      <td>None</td>\n",
              "    </tr>\n",
              "    <tr>\n",
              "      <th>103</th>\n",
              "      <td>498.6</td>\n",
              "      <td>6272</td>\n",
              "      <td>13773</td>\n",
              "      <td>1957</td>\n",
              "      <td>5032</td>\n",
              "      <td>2608</td>\n",
              "      <td>1.0</td>\n",
              "      <td>9</td>\n",
              "      <td>5</td>\n",
              "      <td>1</td>\n",
              "      <td>1</td>\n",
              "      <td>1</td>\n",
              "      <td>1</td>\n",
              "      <td>None</td>\n",
              "    </tr>\n",
              "    <tr>\n",
              "      <th>104</th>\n",
              "      <td>331.5</td>\n",
              "      <td>4170</td>\n",
              "      <td>5000</td>\n",
              "      <td>1910</td>\n",
              "      <td>2370</td>\n",
              "      <td>1438</td>\n",
              "      <td>2.0</td>\n",
              "      <td>7</td>\n",
              "      <td>3</td>\n",
              "      <td>2</td>\n",
              "      <td>0</td>\n",
              "      <td>1</td>\n",
              "      <td>0</td>\n",
              "      <td>None</td>\n",
              "    </tr>\n",
              "    <tr>\n",
              "      <th>...</th>\n",
              "      <td>...</td>\n",
              "      <td>...</td>\n",
              "      <td>...</td>\n",
              "      <td>...</td>\n",
              "      <td>...</td>\n",
              "      <td>...</td>\n",
              "      <td>...</td>\n",
              "      <td>...</td>\n",
              "      <td>...</td>\n",
              "      <td>...</td>\n",
              "      <td>...</td>\n",
              "      <td>...</td>\n",
              "      <td>...</td>\n",
              "      <td>...</td>\n",
              "    </tr>\n",
              "    <tr>\n",
              "      <th>5897</th>\n",
              "      <td>404.8</td>\n",
              "      <td>5092</td>\n",
              "      <td>6762</td>\n",
              "      <td>1938</td>\n",
              "      <td>2594</td>\n",
              "      <td>1714</td>\n",
              "      <td>2.0</td>\n",
              "      <td>9</td>\n",
              "      <td>3</td>\n",
              "      <td>2</td>\n",
              "      <td>1</td>\n",
              "      <td>1</td>\n",
              "      <td>1</td>\n",
              "      <td>Recent</td>\n",
              "    </tr>\n",
              "    <tr>\n",
              "      <th>5898</th>\n",
              "      <td>407.9</td>\n",
              "      <td>5131</td>\n",
              "      <td>9408</td>\n",
              "      <td>1950</td>\n",
              "      <td>2414</td>\n",
              "      <td>1333</td>\n",
              "      <td>2.0</td>\n",
              "      <td>6</td>\n",
              "      <td>3</td>\n",
              "      <td>1</td>\n",
              "      <td>1</td>\n",
              "      <td>1</td>\n",
              "      <td>1</td>\n",
              "      <td>None</td>\n",
              "    </tr>\n",
              "    <tr>\n",
              "      <th>5899</th>\n",
              "      <td>406.5</td>\n",
              "      <td>5113</td>\n",
              "      <td>7198</td>\n",
              "      <td>1987</td>\n",
              "      <td>2480</td>\n",
              "      <td>1674</td>\n",
              "      <td>2.0</td>\n",
              "      <td>7</td>\n",
              "      <td>3</td>\n",
              "      <td>1</td>\n",
              "      <td>1</td>\n",
              "      <td>1</td>\n",
              "      <td>1</td>\n",
              "      <td>None</td>\n",
              "    </tr>\n",
              "    <tr>\n",
              "      <th>5900</th>\n",
              "      <td>308.7</td>\n",
              "      <td>3883</td>\n",
              "      <td>6890</td>\n",
              "      <td>1946</td>\n",
              "      <td>2000</td>\n",
              "      <td>1000</td>\n",
              "      <td>1.0</td>\n",
              "      <td>5</td>\n",
              "      <td>2</td>\n",
              "      <td>1</td>\n",
              "      <td>0</td>\n",
              "      <td>1</td>\n",
              "      <td>0</td>\n",
              "      <td>None</td>\n",
              "    </tr>\n",
              "    <tr>\n",
              "      <th>5901</th>\n",
              "      <td>447.6</td>\n",
              "      <td>5630</td>\n",
              "      <td>7406</td>\n",
              "      <td>1950</td>\n",
              "      <td>2510</td>\n",
              "      <td>1600</td>\n",
              "      <td>2.0</td>\n",
              "      <td>7</td>\n",
              "      <td>3</td>\n",
              "      <td>1</td>\n",
              "      <td>1</td>\n",
              "      <td>1</td>\n",
              "      <td>1</td>\n",
              "      <td>None</td>\n",
              "    </tr>\n",
              "  </tbody>\n",
              "</table>\n",
              "<p>5802 rows × 14 columns</p>\n",
              "</div>"
            ],
            "text/plain": [
              "      TOTAL_VALUE   TAX  LOT_SQFT  ...  KITCHEN  FIREPLACE  REMODEL\n",
              "100         344.2  4330      9965  ...        1          0     None\n",
              "101         412.6  5190      6590  ...        1          0   Recent\n",
              "102         330.1  4152      7500  ...        1          0     None\n",
              "103         498.6  6272     13773  ...        1          1     None\n",
              "104         331.5  4170      5000  ...        1          0     None\n",
              "...           ...   ...       ...  ...      ...        ...      ...\n",
              "5897        404.8  5092      6762  ...        1          1   Recent\n",
              "5898        407.9  5131      9408  ...        1          1     None\n",
              "5899        406.5  5113      7198  ...        1          1     None\n",
              "5900        308.7  3883      6890  ...        1          0     None\n",
              "5901        447.6  5630      7406  ...        1          1     None\n",
              "\n",
              "[5802 rows x 14 columns]"
            ]
          },
          "metadata": {
            "tags": []
          },
          "execution_count": 9
        }
      ]
    },
    {
      "cell_type": "markdown",
      "metadata": {
        "id": "jnJ_AGhSd-cS",
        "colab_type": "text"
      },
      "source": [
        "In the code below, we cast (translate) the integer value of a row to a string value, and concatenate ROW# to the start of each row index string.\n"
      ]
    },
    {
      "cell_type": "code",
      "metadata": {
        "id": "-bMMPRJVcBGA",
        "colab_type": "code",
        "colab": {
          "base_uri": "https://localhost:8080/",
          "height": 419
        },
        "outputId": "a9307d9d-3cbe-4620-dd8f-79a7a9072109"
      },
      "source": [
        "tmp2_df.rename(index=lambda s: \"ROW#\" + str(s))\n"
      ],
      "execution_count": null,
      "outputs": [
        {
          "output_type": "execute_result",
          "data": {
            "text/html": [
              "<div>\n",
              "<style scoped>\n",
              "    .dataframe tbody tr th:only-of-type {\n",
              "        vertical-align: middle;\n",
              "    }\n",
              "\n",
              "    .dataframe tbody tr th {\n",
              "        vertical-align: top;\n",
              "    }\n",
              "\n",
              "    .dataframe thead th {\n",
              "        text-align: right;\n",
              "    }\n",
              "</style>\n",
              "<table border=\"1\" class=\"dataframe\">\n",
              "  <thead>\n",
              "    <tr style=\"text-align: right;\">\n",
              "      <th></th>\n",
              "      <th>TOTAL_VALUE</th>\n",
              "      <th>TAX</th>\n",
              "      <th>LOT_SQFT</th>\n",
              "      <th>YR_BUILT</th>\n",
              "      <th>GROSS_AREA</th>\n",
              "      <th>LIVING_AREA</th>\n",
              "      <th>FLOORS</th>\n",
              "      <th>ROOMS</th>\n",
              "      <th>BEDROOMS</th>\n",
              "      <th>FULL_BATH</th>\n",
              "      <th>HALF_BATH</th>\n",
              "      <th>KITCHEN</th>\n",
              "      <th>FIREPLACE</th>\n",
              "      <th>REMODEL</th>\n",
              "    </tr>\n",
              "  </thead>\n",
              "  <tbody>\n",
              "    <tr>\n",
              "      <th>ROW#0</th>\n",
              "      <td>344.2</td>\n",
              "      <td>4330</td>\n",
              "      <td>9965</td>\n",
              "      <td>1880</td>\n",
              "      <td>2436</td>\n",
              "      <td>1352</td>\n",
              "      <td>2.0</td>\n",
              "      <td>6</td>\n",
              "      <td>3</td>\n",
              "      <td>1</td>\n",
              "      <td>1</td>\n",
              "      <td>1</td>\n",
              "      <td>0</td>\n",
              "      <td>None</td>\n",
              "    </tr>\n",
              "    <tr>\n",
              "      <th>ROW#1</th>\n",
              "      <td>412.6</td>\n",
              "      <td>5190</td>\n",
              "      <td>6590</td>\n",
              "      <td>1945</td>\n",
              "      <td>3108</td>\n",
              "      <td>1976</td>\n",
              "      <td>2.0</td>\n",
              "      <td>10</td>\n",
              "      <td>4</td>\n",
              "      <td>2</td>\n",
              "      <td>1</td>\n",
              "      <td>1</td>\n",
              "      <td>0</td>\n",
              "      <td>Recent</td>\n",
              "    </tr>\n",
              "    <tr>\n",
              "      <th>ROW#2</th>\n",
              "      <td>330.1</td>\n",
              "      <td>4152</td>\n",
              "      <td>7500</td>\n",
              "      <td>1890</td>\n",
              "      <td>2294</td>\n",
              "      <td>1371</td>\n",
              "      <td>2.0</td>\n",
              "      <td>8</td>\n",
              "      <td>4</td>\n",
              "      <td>1</td>\n",
              "      <td>1</td>\n",
              "      <td>1</td>\n",
              "      <td>0</td>\n",
              "      <td>None</td>\n",
              "    </tr>\n",
              "    <tr>\n",
              "      <th>ROW#3</th>\n",
              "      <td>498.6</td>\n",
              "      <td>6272</td>\n",
              "      <td>13773</td>\n",
              "      <td>1957</td>\n",
              "      <td>5032</td>\n",
              "      <td>2608</td>\n",
              "      <td>1.0</td>\n",
              "      <td>9</td>\n",
              "      <td>5</td>\n",
              "      <td>1</td>\n",
              "      <td>1</td>\n",
              "      <td>1</td>\n",
              "      <td>1</td>\n",
              "      <td>None</td>\n",
              "    </tr>\n",
              "    <tr>\n",
              "      <th>ROW#4</th>\n",
              "      <td>331.5</td>\n",
              "      <td>4170</td>\n",
              "      <td>5000</td>\n",
              "      <td>1910</td>\n",
              "      <td>2370</td>\n",
              "      <td>1438</td>\n",
              "      <td>2.0</td>\n",
              "      <td>7</td>\n",
              "      <td>3</td>\n",
              "      <td>2</td>\n",
              "      <td>0</td>\n",
              "      <td>1</td>\n",
              "      <td>0</td>\n",
              "      <td>None</td>\n",
              "    </tr>\n",
              "    <tr>\n",
              "      <th>...</th>\n",
              "      <td>...</td>\n",
              "      <td>...</td>\n",
              "      <td>...</td>\n",
              "      <td>...</td>\n",
              "      <td>...</td>\n",
              "      <td>...</td>\n",
              "      <td>...</td>\n",
              "      <td>...</td>\n",
              "      <td>...</td>\n",
              "      <td>...</td>\n",
              "      <td>...</td>\n",
              "      <td>...</td>\n",
              "      <td>...</td>\n",
              "      <td>...</td>\n",
              "    </tr>\n",
              "    <tr>\n",
              "      <th>ROW#5797</th>\n",
              "      <td>404.8</td>\n",
              "      <td>5092</td>\n",
              "      <td>6762</td>\n",
              "      <td>1938</td>\n",
              "      <td>2594</td>\n",
              "      <td>1714</td>\n",
              "      <td>2.0</td>\n",
              "      <td>9</td>\n",
              "      <td>3</td>\n",
              "      <td>2</td>\n",
              "      <td>1</td>\n",
              "      <td>1</td>\n",
              "      <td>1</td>\n",
              "      <td>Recent</td>\n",
              "    </tr>\n",
              "    <tr>\n",
              "      <th>ROW#5798</th>\n",
              "      <td>407.9</td>\n",
              "      <td>5131</td>\n",
              "      <td>9408</td>\n",
              "      <td>1950</td>\n",
              "      <td>2414</td>\n",
              "      <td>1333</td>\n",
              "      <td>2.0</td>\n",
              "      <td>6</td>\n",
              "      <td>3</td>\n",
              "      <td>1</td>\n",
              "      <td>1</td>\n",
              "      <td>1</td>\n",
              "      <td>1</td>\n",
              "      <td>None</td>\n",
              "    </tr>\n",
              "    <tr>\n",
              "      <th>ROW#5799</th>\n",
              "      <td>406.5</td>\n",
              "      <td>5113</td>\n",
              "      <td>7198</td>\n",
              "      <td>1987</td>\n",
              "      <td>2480</td>\n",
              "      <td>1674</td>\n",
              "      <td>2.0</td>\n",
              "      <td>7</td>\n",
              "      <td>3</td>\n",
              "      <td>1</td>\n",
              "      <td>1</td>\n",
              "      <td>1</td>\n",
              "      <td>1</td>\n",
              "      <td>None</td>\n",
              "    </tr>\n",
              "    <tr>\n",
              "      <th>ROW#5800</th>\n",
              "      <td>308.7</td>\n",
              "      <td>3883</td>\n",
              "      <td>6890</td>\n",
              "      <td>1946</td>\n",
              "      <td>2000</td>\n",
              "      <td>1000</td>\n",
              "      <td>1.0</td>\n",
              "      <td>5</td>\n",
              "      <td>2</td>\n",
              "      <td>1</td>\n",
              "      <td>0</td>\n",
              "      <td>1</td>\n",
              "      <td>0</td>\n",
              "      <td>None</td>\n",
              "    </tr>\n",
              "    <tr>\n",
              "      <th>ROW#5801</th>\n",
              "      <td>447.6</td>\n",
              "      <td>5630</td>\n",
              "      <td>7406</td>\n",
              "      <td>1950</td>\n",
              "      <td>2510</td>\n",
              "      <td>1600</td>\n",
              "      <td>2.0</td>\n",
              "      <td>7</td>\n",
              "      <td>3</td>\n",
              "      <td>1</td>\n",
              "      <td>1</td>\n",
              "      <td>1</td>\n",
              "      <td>1</td>\n",
              "      <td>None</td>\n",
              "    </tr>\n",
              "  </tbody>\n",
              "</table>\n",
              "<p>5802 rows × 14 columns</p>\n",
              "</div>"
            ],
            "text/plain": [
              "          TOTAL_VALUE   TAX  LOT_SQFT  ...  KITCHEN  FIREPLACE  REMODEL\n",
              "ROW#0           344.2  4330      9965  ...        1          0     None\n",
              "ROW#1           412.6  5190      6590  ...        1          0   Recent\n",
              "ROW#2           330.1  4152      7500  ...        1          0     None\n",
              "ROW#3           498.6  6272     13773  ...        1          1     None\n",
              "ROW#4           331.5  4170      5000  ...        1          0     None\n",
              "...               ...   ...       ...  ...      ...        ...      ...\n",
              "ROW#5797        404.8  5092      6762  ...        1          1   Recent\n",
              "ROW#5798        407.9  5131      9408  ...        1          1     None\n",
              "ROW#5799        406.5  5113      7198  ...        1          1     None\n",
              "ROW#5800        308.7  3883      6890  ...        1          0     None\n",
              "ROW#5801        447.6  5630      7406  ...        1          1     None\n",
              "\n",
              "[5802 rows x 14 columns]"
            ]
          },
          "metadata": {
            "tags": []
          },
          "execution_count": 10
        }
      ]
    },
    {
      "cell_type": "markdown",
      "metadata": {
        "id": "ypROtSJMeTP3",
        "colab_type": "text"
      },
      "source": [
        "## Editing/Cleaning values in a DataFrame\n",
        "\n",
        "\n",
        "\n"
      ]
    },
    {
      "cell_type": "markdown",
      "metadata": {
        "id": "bVsqFCUCe57Q",
        "colab_type": "text"
      },
      "source": [
        "### Changing a single value"
      ]
    },
    {
      "cell_type": "code",
      "metadata": {
        "id": "B3k63uHweUAN",
        "colab_type": "code",
        "colab": {
          "base_uri": "https://localhost:8080/",
          "height": 111
        },
        "outputId": "72cbb0dd-4bc0-44a6-a0f0-b62b5535ef5b"
      },
      "source": [
        "tmp1_df = housing_df.copy() # create a copy of our dataframe, so we preserve the original;\n",
        "tmp1_df.loc[0,'TOTAL_VALUE'] = 1000000\n",
        "tmp1_df.head(2)"
      ],
      "execution_count": null,
      "outputs": [
        {
          "output_type": "execute_result",
          "data": {
            "text/html": [
              "<div>\n",
              "<style scoped>\n",
              "    .dataframe tbody tr th:only-of-type {\n",
              "        vertical-align: middle;\n",
              "    }\n",
              "\n",
              "    .dataframe tbody tr th {\n",
              "        vertical-align: top;\n",
              "    }\n",
              "\n",
              "    .dataframe thead th {\n",
              "        text-align: right;\n",
              "    }\n",
              "</style>\n",
              "<table border=\"1\" class=\"dataframe\">\n",
              "  <thead>\n",
              "    <tr style=\"text-align: right;\">\n",
              "      <th></th>\n",
              "      <th>TOTAL_VALUE</th>\n",
              "      <th>TAX</th>\n",
              "      <th>LOT_SQFT</th>\n",
              "      <th>YR_BUILT</th>\n",
              "      <th>GROSS_AREA</th>\n",
              "      <th>LIVING_AREA</th>\n",
              "      <th>FLOORS</th>\n",
              "      <th>ROOMS</th>\n",
              "      <th>BEDROOMS</th>\n",
              "      <th>FULL_BATH</th>\n",
              "      <th>HALF_BATH</th>\n",
              "      <th>KITCHEN</th>\n",
              "      <th>FIREPLACE</th>\n",
              "      <th>REMODEL</th>\n",
              "    </tr>\n",
              "  </thead>\n",
              "  <tbody>\n",
              "    <tr>\n",
              "      <th>0</th>\n",
              "      <td>1000000.0</td>\n",
              "      <td>4330</td>\n",
              "      <td>9965</td>\n",
              "      <td>1880</td>\n",
              "      <td>2436</td>\n",
              "      <td>1352</td>\n",
              "      <td>2.0</td>\n",
              "      <td>6</td>\n",
              "      <td>3</td>\n",
              "      <td>1</td>\n",
              "      <td>1</td>\n",
              "      <td>1</td>\n",
              "      <td>0</td>\n",
              "      <td>None</td>\n",
              "    </tr>\n",
              "    <tr>\n",
              "      <th>1</th>\n",
              "      <td>412.6</td>\n",
              "      <td>5190</td>\n",
              "      <td>6590</td>\n",
              "      <td>1945</td>\n",
              "      <td>3108</td>\n",
              "      <td>1976</td>\n",
              "      <td>2.0</td>\n",
              "      <td>10</td>\n",
              "      <td>4</td>\n",
              "      <td>2</td>\n",
              "      <td>1</td>\n",
              "      <td>1</td>\n",
              "      <td>0</td>\n",
              "      <td>Recent</td>\n",
              "    </tr>\n",
              "  </tbody>\n",
              "</table>\n",
              "</div>"
            ],
            "text/plain": [
              "   TOTAL_VALUE   TAX  LOT_SQFT  YR_BUILT  ...  HALF_BATH  KITCHEN  FIREPLACE  REMODEL\n",
              "0    1000000.0  4330      9965      1880  ...          1        1          0     None\n",
              "1        412.6  5190      6590      1945  ...          1        1          0   Recent\n",
              "\n",
              "[2 rows x 14 columns]"
            ]
          },
          "metadata": {
            "tags": []
          },
          "execution_count": 11
        }
      ]
    },
    {
      "cell_type": "markdown",
      "metadata": {
        "id": "8wPL7AL3eUe9",
        "colab_type": "text"
      },
      "source": [
        "### Changing a column of values\n",
        "\n"
      ]
    },
    {
      "cell_type": "code",
      "metadata": {
        "id": "zQuHaEtAfxIS",
        "colab_type": "code",
        "colab": {
          "base_uri": "https://localhost:8080/",
          "height": 419
        },
        "outputId": "4a493d2d-d0c0-40c9-c201-09d5a356fb88"
      },
      "source": [
        "tmp1_df = housing_df.copy()\n",
        "tmp1_df['TOTAL_VALUE']=10\n",
        "tmp1_df"
      ],
      "execution_count": null,
      "outputs": [
        {
          "output_type": "execute_result",
          "data": {
            "text/html": [
              "<div>\n",
              "<style scoped>\n",
              "    .dataframe tbody tr th:only-of-type {\n",
              "        vertical-align: middle;\n",
              "    }\n",
              "\n",
              "    .dataframe tbody tr th {\n",
              "        vertical-align: top;\n",
              "    }\n",
              "\n",
              "    .dataframe thead th {\n",
              "        text-align: right;\n",
              "    }\n",
              "</style>\n",
              "<table border=\"1\" class=\"dataframe\">\n",
              "  <thead>\n",
              "    <tr style=\"text-align: right;\">\n",
              "      <th></th>\n",
              "      <th>TOTAL_VALUE</th>\n",
              "      <th>TAX</th>\n",
              "      <th>LOT_SQFT</th>\n",
              "      <th>YR_BUILT</th>\n",
              "      <th>GROSS_AREA</th>\n",
              "      <th>LIVING_AREA</th>\n",
              "      <th>FLOORS</th>\n",
              "      <th>ROOMS</th>\n",
              "      <th>BEDROOMS</th>\n",
              "      <th>FULL_BATH</th>\n",
              "      <th>HALF_BATH</th>\n",
              "      <th>KITCHEN</th>\n",
              "      <th>FIREPLACE</th>\n",
              "      <th>REMODEL</th>\n",
              "    </tr>\n",
              "  </thead>\n",
              "  <tbody>\n",
              "    <tr>\n",
              "      <th>0</th>\n",
              "      <td>10</td>\n",
              "      <td>4330</td>\n",
              "      <td>9965</td>\n",
              "      <td>1880</td>\n",
              "      <td>2436</td>\n",
              "      <td>1352</td>\n",
              "      <td>2.0</td>\n",
              "      <td>6</td>\n",
              "      <td>3</td>\n",
              "      <td>1</td>\n",
              "      <td>1</td>\n",
              "      <td>1</td>\n",
              "      <td>0</td>\n",
              "      <td>None</td>\n",
              "    </tr>\n",
              "    <tr>\n",
              "      <th>1</th>\n",
              "      <td>10</td>\n",
              "      <td>5190</td>\n",
              "      <td>6590</td>\n",
              "      <td>1945</td>\n",
              "      <td>3108</td>\n",
              "      <td>1976</td>\n",
              "      <td>2.0</td>\n",
              "      <td>10</td>\n",
              "      <td>4</td>\n",
              "      <td>2</td>\n",
              "      <td>1</td>\n",
              "      <td>1</td>\n",
              "      <td>0</td>\n",
              "      <td>Recent</td>\n",
              "    </tr>\n",
              "    <tr>\n",
              "      <th>2</th>\n",
              "      <td>10</td>\n",
              "      <td>4152</td>\n",
              "      <td>7500</td>\n",
              "      <td>1890</td>\n",
              "      <td>2294</td>\n",
              "      <td>1371</td>\n",
              "      <td>2.0</td>\n",
              "      <td>8</td>\n",
              "      <td>4</td>\n",
              "      <td>1</td>\n",
              "      <td>1</td>\n",
              "      <td>1</td>\n",
              "      <td>0</td>\n",
              "      <td>None</td>\n",
              "    </tr>\n",
              "    <tr>\n",
              "      <th>3</th>\n",
              "      <td>10</td>\n",
              "      <td>6272</td>\n",
              "      <td>13773</td>\n",
              "      <td>1957</td>\n",
              "      <td>5032</td>\n",
              "      <td>2608</td>\n",
              "      <td>1.0</td>\n",
              "      <td>9</td>\n",
              "      <td>5</td>\n",
              "      <td>1</td>\n",
              "      <td>1</td>\n",
              "      <td>1</td>\n",
              "      <td>1</td>\n",
              "      <td>None</td>\n",
              "    </tr>\n",
              "    <tr>\n",
              "      <th>4</th>\n",
              "      <td>10</td>\n",
              "      <td>4170</td>\n",
              "      <td>5000</td>\n",
              "      <td>1910</td>\n",
              "      <td>2370</td>\n",
              "      <td>1438</td>\n",
              "      <td>2.0</td>\n",
              "      <td>7</td>\n",
              "      <td>3</td>\n",
              "      <td>2</td>\n",
              "      <td>0</td>\n",
              "      <td>1</td>\n",
              "      <td>0</td>\n",
              "      <td>None</td>\n",
              "    </tr>\n",
              "    <tr>\n",
              "      <th>...</th>\n",
              "      <td>...</td>\n",
              "      <td>...</td>\n",
              "      <td>...</td>\n",
              "      <td>...</td>\n",
              "      <td>...</td>\n",
              "      <td>...</td>\n",
              "      <td>...</td>\n",
              "      <td>...</td>\n",
              "      <td>...</td>\n",
              "      <td>...</td>\n",
              "      <td>...</td>\n",
              "      <td>...</td>\n",
              "      <td>...</td>\n",
              "      <td>...</td>\n",
              "    </tr>\n",
              "    <tr>\n",
              "      <th>5797</th>\n",
              "      <td>10</td>\n",
              "      <td>5092</td>\n",
              "      <td>6762</td>\n",
              "      <td>1938</td>\n",
              "      <td>2594</td>\n",
              "      <td>1714</td>\n",
              "      <td>2.0</td>\n",
              "      <td>9</td>\n",
              "      <td>3</td>\n",
              "      <td>2</td>\n",
              "      <td>1</td>\n",
              "      <td>1</td>\n",
              "      <td>1</td>\n",
              "      <td>Recent</td>\n",
              "    </tr>\n",
              "    <tr>\n",
              "      <th>5798</th>\n",
              "      <td>10</td>\n",
              "      <td>5131</td>\n",
              "      <td>9408</td>\n",
              "      <td>1950</td>\n",
              "      <td>2414</td>\n",
              "      <td>1333</td>\n",
              "      <td>2.0</td>\n",
              "      <td>6</td>\n",
              "      <td>3</td>\n",
              "      <td>1</td>\n",
              "      <td>1</td>\n",
              "      <td>1</td>\n",
              "      <td>1</td>\n",
              "      <td>None</td>\n",
              "    </tr>\n",
              "    <tr>\n",
              "      <th>5799</th>\n",
              "      <td>10</td>\n",
              "      <td>5113</td>\n",
              "      <td>7198</td>\n",
              "      <td>1987</td>\n",
              "      <td>2480</td>\n",
              "      <td>1674</td>\n",
              "      <td>2.0</td>\n",
              "      <td>7</td>\n",
              "      <td>3</td>\n",
              "      <td>1</td>\n",
              "      <td>1</td>\n",
              "      <td>1</td>\n",
              "      <td>1</td>\n",
              "      <td>None</td>\n",
              "    </tr>\n",
              "    <tr>\n",
              "      <th>5800</th>\n",
              "      <td>10</td>\n",
              "      <td>3883</td>\n",
              "      <td>6890</td>\n",
              "      <td>1946</td>\n",
              "      <td>2000</td>\n",
              "      <td>1000</td>\n",
              "      <td>1.0</td>\n",
              "      <td>5</td>\n",
              "      <td>2</td>\n",
              "      <td>1</td>\n",
              "      <td>0</td>\n",
              "      <td>1</td>\n",
              "      <td>0</td>\n",
              "      <td>None</td>\n",
              "    </tr>\n",
              "    <tr>\n",
              "      <th>5801</th>\n",
              "      <td>10</td>\n",
              "      <td>5630</td>\n",
              "      <td>7406</td>\n",
              "      <td>1950</td>\n",
              "      <td>2510</td>\n",
              "      <td>1600</td>\n",
              "      <td>2.0</td>\n",
              "      <td>7</td>\n",
              "      <td>3</td>\n",
              "      <td>1</td>\n",
              "      <td>1</td>\n",
              "      <td>1</td>\n",
              "      <td>1</td>\n",
              "      <td>None</td>\n",
              "    </tr>\n",
              "  </tbody>\n",
              "</table>\n",
              "<p>5802 rows × 14 columns</p>\n",
              "</div>"
            ],
            "text/plain": [
              "      TOTAL_VALUE   TAX  LOT_SQFT  ...  KITCHEN  FIREPLACE  REMODEL\n",
              "0              10  4330      9965  ...        1          0     None\n",
              "1              10  5190      6590  ...        1          0   Recent\n",
              "2              10  4152      7500  ...        1          0     None\n",
              "3              10  6272     13773  ...        1          1     None\n",
              "4              10  4170      5000  ...        1          0     None\n",
              "...           ...   ...       ...  ...      ...        ...      ...\n",
              "5797           10  5092      6762  ...        1          1   Recent\n",
              "5798           10  5131      9408  ...        1          1     None\n",
              "5799           10  5113      7198  ...        1          1     None\n",
              "5800           10  3883      6890  ...        1          0     None\n",
              "5801           10  5630      7406  ...        1          1     None\n",
              "\n",
              "[5802 rows x 14 columns]"
            ]
          },
          "metadata": {
            "tags": []
          },
          "execution_count": 12
        }
      ]
    },
    {
      "cell_type": "code",
      "metadata": {
        "id": "EedB98VoeU31",
        "colab_type": "code",
        "colab": {
          "base_uri": "https://localhost:8080/",
          "height": 419
        },
        "outputId": "e018c907-4a43-4b7c-9f15-1675211148c6"
      },
      "source": [
        "tmp1_df = housing_df.copy()\n",
        "tmp1_df['TOTAL_VALUE']=tmp1_df['TAX']\n",
        "tmp1_df"
      ],
      "execution_count": null,
      "outputs": [
        {
          "output_type": "execute_result",
          "data": {
            "text/html": [
              "<div>\n",
              "<style scoped>\n",
              "    .dataframe tbody tr th:only-of-type {\n",
              "        vertical-align: middle;\n",
              "    }\n",
              "\n",
              "    .dataframe tbody tr th {\n",
              "        vertical-align: top;\n",
              "    }\n",
              "\n",
              "    .dataframe thead th {\n",
              "        text-align: right;\n",
              "    }\n",
              "</style>\n",
              "<table border=\"1\" class=\"dataframe\">\n",
              "  <thead>\n",
              "    <tr style=\"text-align: right;\">\n",
              "      <th></th>\n",
              "      <th>TOTAL_VALUE</th>\n",
              "      <th>TAX</th>\n",
              "      <th>LOT_SQFT</th>\n",
              "      <th>YR_BUILT</th>\n",
              "      <th>GROSS_AREA</th>\n",
              "      <th>LIVING_AREA</th>\n",
              "      <th>FLOORS</th>\n",
              "      <th>ROOMS</th>\n",
              "      <th>BEDROOMS</th>\n",
              "      <th>FULL_BATH</th>\n",
              "      <th>HALF_BATH</th>\n",
              "      <th>KITCHEN</th>\n",
              "      <th>FIREPLACE</th>\n",
              "      <th>REMODEL</th>\n",
              "    </tr>\n",
              "  </thead>\n",
              "  <tbody>\n",
              "    <tr>\n",
              "      <th>0</th>\n",
              "      <td>4330</td>\n",
              "      <td>4330</td>\n",
              "      <td>9965</td>\n",
              "      <td>1880</td>\n",
              "      <td>2436</td>\n",
              "      <td>1352</td>\n",
              "      <td>2.0</td>\n",
              "      <td>6</td>\n",
              "      <td>3</td>\n",
              "      <td>1</td>\n",
              "      <td>1</td>\n",
              "      <td>1</td>\n",
              "      <td>0</td>\n",
              "      <td>None</td>\n",
              "    </tr>\n",
              "    <tr>\n",
              "      <th>1</th>\n",
              "      <td>5190</td>\n",
              "      <td>5190</td>\n",
              "      <td>6590</td>\n",
              "      <td>1945</td>\n",
              "      <td>3108</td>\n",
              "      <td>1976</td>\n",
              "      <td>2.0</td>\n",
              "      <td>10</td>\n",
              "      <td>4</td>\n",
              "      <td>2</td>\n",
              "      <td>1</td>\n",
              "      <td>1</td>\n",
              "      <td>0</td>\n",
              "      <td>Recent</td>\n",
              "    </tr>\n",
              "    <tr>\n",
              "      <th>2</th>\n",
              "      <td>4152</td>\n",
              "      <td>4152</td>\n",
              "      <td>7500</td>\n",
              "      <td>1890</td>\n",
              "      <td>2294</td>\n",
              "      <td>1371</td>\n",
              "      <td>2.0</td>\n",
              "      <td>8</td>\n",
              "      <td>4</td>\n",
              "      <td>1</td>\n",
              "      <td>1</td>\n",
              "      <td>1</td>\n",
              "      <td>0</td>\n",
              "      <td>None</td>\n",
              "    </tr>\n",
              "    <tr>\n",
              "      <th>3</th>\n",
              "      <td>6272</td>\n",
              "      <td>6272</td>\n",
              "      <td>13773</td>\n",
              "      <td>1957</td>\n",
              "      <td>5032</td>\n",
              "      <td>2608</td>\n",
              "      <td>1.0</td>\n",
              "      <td>9</td>\n",
              "      <td>5</td>\n",
              "      <td>1</td>\n",
              "      <td>1</td>\n",
              "      <td>1</td>\n",
              "      <td>1</td>\n",
              "      <td>None</td>\n",
              "    </tr>\n",
              "    <tr>\n",
              "      <th>4</th>\n",
              "      <td>4170</td>\n",
              "      <td>4170</td>\n",
              "      <td>5000</td>\n",
              "      <td>1910</td>\n",
              "      <td>2370</td>\n",
              "      <td>1438</td>\n",
              "      <td>2.0</td>\n",
              "      <td>7</td>\n",
              "      <td>3</td>\n",
              "      <td>2</td>\n",
              "      <td>0</td>\n",
              "      <td>1</td>\n",
              "      <td>0</td>\n",
              "      <td>None</td>\n",
              "    </tr>\n",
              "    <tr>\n",
              "      <th>...</th>\n",
              "      <td>...</td>\n",
              "      <td>...</td>\n",
              "      <td>...</td>\n",
              "      <td>...</td>\n",
              "      <td>...</td>\n",
              "      <td>...</td>\n",
              "      <td>...</td>\n",
              "      <td>...</td>\n",
              "      <td>...</td>\n",
              "      <td>...</td>\n",
              "      <td>...</td>\n",
              "      <td>...</td>\n",
              "      <td>...</td>\n",
              "      <td>...</td>\n",
              "    </tr>\n",
              "    <tr>\n",
              "      <th>5797</th>\n",
              "      <td>5092</td>\n",
              "      <td>5092</td>\n",
              "      <td>6762</td>\n",
              "      <td>1938</td>\n",
              "      <td>2594</td>\n",
              "      <td>1714</td>\n",
              "      <td>2.0</td>\n",
              "      <td>9</td>\n",
              "      <td>3</td>\n",
              "      <td>2</td>\n",
              "      <td>1</td>\n",
              "      <td>1</td>\n",
              "      <td>1</td>\n",
              "      <td>Recent</td>\n",
              "    </tr>\n",
              "    <tr>\n",
              "      <th>5798</th>\n",
              "      <td>5131</td>\n",
              "      <td>5131</td>\n",
              "      <td>9408</td>\n",
              "      <td>1950</td>\n",
              "      <td>2414</td>\n",
              "      <td>1333</td>\n",
              "      <td>2.0</td>\n",
              "      <td>6</td>\n",
              "      <td>3</td>\n",
              "      <td>1</td>\n",
              "      <td>1</td>\n",
              "      <td>1</td>\n",
              "      <td>1</td>\n",
              "      <td>None</td>\n",
              "    </tr>\n",
              "    <tr>\n",
              "      <th>5799</th>\n",
              "      <td>5113</td>\n",
              "      <td>5113</td>\n",
              "      <td>7198</td>\n",
              "      <td>1987</td>\n",
              "      <td>2480</td>\n",
              "      <td>1674</td>\n",
              "      <td>2.0</td>\n",
              "      <td>7</td>\n",
              "      <td>3</td>\n",
              "      <td>1</td>\n",
              "      <td>1</td>\n",
              "      <td>1</td>\n",
              "      <td>1</td>\n",
              "      <td>None</td>\n",
              "    </tr>\n",
              "    <tr>\n",
              "      <th>5800</th>\n",
              "      <td>3883</td>\n",
              "      <td>3883</td>\n",
              "      <td>6890</td>\n",
              "      <td>1946</td>\n",
              "      <td>2000</td>\n",
              "      <td>1000</td>\n",
              "      <td>1.0</td>\n",
              "      <td>5</td>\n",
              "      <td>2</td>\n",
              "      <td>1</td>\n",
              "      <td>0</td>\n",
              "      <td>1</td>\n",
              "      <td>0</td>\n",
              "      <td>None</td>\n",
              "    </tr>\n",
              "    <tr>\n",
              "      <th>5801</th>\n",
              "      <td>5630</td>\n",
              "      <td>5630</td>\n",
              "      <td>7406</td>\n",
              "      <td>1950</td>\n",
              "      <td>2510</td>\n",
              "      <td>1600</td>\n",
              "      <td>2.0</td>\n",
              "      <td>7</td>\n",
              "      <td>3</td>\n",
              "      <td>1</td>\n",
              "      <td>1</td>\n",
              "      <td>1</td>\n",
              "      <td>1</td>\n",
              "      <td>None</td>\n",
              "    </tr>\n",
              "  </tbody>\n",
              "</table>\n",
              "<p>5802 rows × 14 columns</p>\n",
              "</div>"
            ],
            "text/plain": [
              "      TOTAL_VALUE   TAX  LOT_SQFT  ...  KITCHEN  FIREPLACE  REMODEL\n",
              "0            4330  4330      9965  ...        1          0     None\n",
              "1            5190  5190      6590  ...        1          0   Recent\n",
              "2            4152  4152      7500  ...        1          0     None\n",
              "3            6272  6272     13773  ...        1          1     None\n",
              "4            4170  4170      5000  ...        1          0     None\n",
              "...           ...   ...       ...  ...      ...        ...      ...\n",
              "5797         5092  5092      6762  ...        1          1   Recent\n",
              "5798         5131  5131      9408  ...        1          1     None\n",
              "5799         5113  5113      7198  ...        1          1     None\n",
              "5800         3883  3883      6890  ...        1          0     None\n",
              "5801         5630  5630      7406  ...        1          1     None\n",
              "\n",
              "[5802 rows x 14 columns]"
            ]
          },
          "metadata": {
            "tags": []
          },
          "execution_count": 13
        }
      ]
    },
    {
      "cell_type": "code",
      "metadata": {
        "id": "7ho9I34xeVhj",
        "colab_type": "code",
        "colab": {
          "base_uri": "https://localhost:8080/",
          "height": 419
        },
        "outputId": "851fcd5f-e7f9-4d6d-ba46-6b437ba5c2ff"
      },
      "source": [
        "tmp1_df = housing_df.copy()\n",
        "tmp1_df['TOTAL_VALUE']=tmp1_df['TOTAL_VALUE']+1000\n",
        "tmp1_df"
      ],
      "execution_count": null,
      "outputs": [
        {
          "output_type": "execute_result",
          "data": {
            "text/html": [
              "<div>\n",
              "<style scoped>\n",
              "    .dataframe tbody tr th:only-of-type {\n",
              "        vertical-align: middle;\n",
              "    }\n",
              "\n",
              "    .dataframe tbody tr th {\n",
              "        vertical-align: top;\n",
              "    }\n",
              "\n",
              "    .dataframe thead th {\n",
              "        text-align: right;\n",
              "    }\n",
              "</style>\n",
              "<table border=\"1\" class=\"dataframe\">\n",
              "  <thead>\n",
              "    <tr style=\"text-align: right;\">\n",
              "      <th></th>\n",
              "      <th>TOTAL_VALUE</th>\n",
              "      <th>TAX</th>\n",
              "      <th>LOT_SQFT</th>\n",
              "      <th>YR_BUILT</th>\n",
              "      <th>GROSS_AREA</th>\n",
              "      <th>LIVING_AREA</th>\n",
              "      <th>FLOORS</th>\n",
              "      <th>ROOMS</th>\n",
              "      <th>BEDROOMS</th>\n",
              "      <th>FULL_BATH</th>\n",
              "      <th>HALF_BATH</th>\n",
              "      <th>KITCHEN</th>\n",
              "      <th>FIREPLACE</th>\n",
              "      <th>REMODEL</th>\n",
              "    </tr>\n",
              "  </thead>\n",
              "  <tbody>\n",
              "    <tr>\n",
              "      <th>0</th>\n",
              "      <td>1344.2</td>\n",
              "      <td>4330</td>\n",
              "      <td>9965</td>\n",
              "      <td>1880</td>\n",
              "      <td>2436</td>\n",
              "      <td>1352</td>\n",
              "      <td>2.0</td>\n",
              "      <td>6</td>\n",
              "      <td>3</td>\n",
              "      <td>1</td>\n",
              "      <td>1</td>\n",
              "      <td>1</td>\n",
              "      <td>0</td>\n",
              "      <td>None</td>\n",
              "    </tr>\n",
              "    <tr>\n",
              "      <th>1</th>\n",
              "      <td>1412.6</td>\n",
              "      <td>5190</td>\n",
              "      <td>6590</td>\n",
              "      <td>1945</td>\n",
              "      <td>3108</td>\n",
              "      <td>1976</td>\n",
              "      <td>2.0</td>\n",
              "      <td>10</td>\n",
              "      <td>4</td>\n",
              "      <td>2</td>\n",
              "      <td>1</td>\n",
              "      <td>1</td>\n",
              "      <td>0</td>\n",
              "      <td>Recent</td>\n",
              "    </tr>\n",
              "    <tr>\n",
              "      <th>2</th>\n",
              "      <td>1330.1</td>\n",
              "      <td>4152</td>\n",
              "      <td>7500</td>\n",
              "      <td>1890</td>\n",
              "      <td>2294</td>\n",
              "      <td>1371</td>\n",
              "      <td>2.0</td>\n",
              "      <td>8</td>\n",
              "      <td>4</td>\n",
              "      <td>1</td>\n",
              "      <td>1</td>\n",
              "      <td>1</td>\n",
              "      <td>0</td>\n",
              "      <td>None</td>\n",
              "    </tr>\n",
              "    <tr>\n",
              "      <th>3</th>\n",
              "      <td>1498.6</td>\n",
              "      <td>6272</td>\n",
              "      <td>13773</td>\n",
              "      <td>1957</td>\n",
              "      <td>5032</td>\n",
              "      <td>2608</td>\n",
              "      <td>1.0</td>\n",
              "      <td>9</td>\n",
              "      <td>5</td>\n",
              "      <td>1</td>\n",
              "      <td>1</td>\n",
              "      <td>1</td>\n",
              "      <td>1</td>\n",
              "      <td>None</td>\n",
              "    </tr>\n",
              "    <tr>\n",
              "      <th>4</th>\n",
              "      <td>1331.5</td>\n",
              "      <td>4170</td>\n",
              "      <td>5000</td>\n",
              "      <td>1910</td>\n",
              "      <td>2370</td>\n",
              "      <td>1438</td>\n",
              "      <td>2.0</td>\n",
              "      <td>7</td>\n",
              "      <td>3</td>\n",
              "      <td>2</td>\n",
              "      <td>0</td>\n",
              "      <td>1</td>\n",
              "      <td>0</td>\n",
              "      <td>None</td>\n",
              "    </tr>\n",
              "    <tr>\n",
              "      <th>...</th>\n",
              "      <td>...</td>\n",
              "      <td>...</td>\n",
              "      <td>...</td>\n",
              "      <td>...</td>\n",
              "      <td>...</td>\n",
              "      <td>...</td>\n",
              "      <td>...</td>\n",
              "      <td>...</td>\n",
              "      <td>...</td>\n",
              "      <td>...</td>\n",
              "      <td>...</td>\n",
              "      <td>...</td>\n",
              "      <td>...</td>\n",
              "      <td>...</td>\n",
              "    </tr>\n",
              "    <tr>\n",
              "      <th>5797</th>\n",
              "      <td>1404.8</td>\n",
              "      <td>5092</td>\n",
              "      <td>6762</td>\n",
              "      <td>1938</td>\n",
              "      <td>2594</td>\n",
              "      <td>1714</td>\n",
              "      <td>2.0</td>\n",
              "      <td>9</td>\n",
              "      <td>3</td>\n",
              "      <td>2</td>\n",
              "      <td>1</td>\n",
              "      <td>1</td>\n",
              "      <td>1</td>\n",
              "      <td>Recent</td>\n",
              "    </tr>\n",
              "    <tr>\n",
              "      <th>5798</th>\n",
              "      <td>1407.9</td>\n",
              "      <td>5131</td>\n",
              "      <td>9408</td>\n",
              "      <td>1950</td>\n",
              "      <td>2414</td>\n",
              "      <td>1333</td>\n",
              "      <td>2.0</td>\n",
              "      <td>6</td>\n",
              "      <td>3</td>\n",
              "      <td>1</td>\n",
              "      <td>1</td>\n",
              "      <td>1</td>\n",
              "      <td>1</td>\n",
              "      <td>None</td>\n",
              "    </tr>\n",
              "    <tr>\n",
              "      <th>5799</th>\n",
              "      <td>1406.5</td>\n",
              "      <td>5113</td>\n",
              "      <td>7198</td>\n",
              "      <td>1987</td>\n",
              "      <td>2480</td>\n",
              "      <td>1674</td>\n",
              "      <td>2.0</td>\n",
              "      <td>7</td>\n",
              "      <td>3</td>\n",
              "      <td>1</td>\n",
              "      <td>1</td>\n",
              "      <td>1</td>\n",
              "      <td>1</td>\n",
              "      <td>None</td>\n",
              "    </tr>\n",
              "    <tr>\n",
              "      <th>5800</th>\n",
              "      <td>1308.7</td>\n",
              "      <td>3883</td>\n",
              "      <td>6890</td>\n",
              "      <td>1946</td>\n",
              "      <td>2000</td>\n",
              "      <td>1000</td>\n",
              "      <td>1.0</td>\n",
              "      <td>5</td>\n",
              "      <td>2</td>\n",
              "      <td>1</td>\n",
              "      <td>0</td>\n",
              "      <td>1</td>\n",
              "      <td>0</td>\n",
              "      <td>None</td>\n",
              "    </tr>\n",
              "    <tr>\n",
              "      <th>5801</th>\n",
              "      <td>1447.6</td>\n",
              "      <td>5630</td>\n",
              "      <td>7406</td>\n",
              "      <td>1950</td>\n",
              "      <td>2510</td>\n",
              "      <td>1600</td>\n",
              "      <td>2.0</td>\n",
              "      <td>7</td>\n",
              "      <td>3</td>\n",
              "      <td>1</td>\n",
              "      <td>1</td>\n",
              "      <td>1</td>\n",
              "      <td>1</td>\n",
              "      <td>None</td>\n",
              "    </tr>\n",
              "  </tbody>\n",
              "</table>\n",
              "<p>5802 rows × 14 columns</p>\n",
              "</div>"
            ],
            "text/plain": [
              "      TOTAL_VALUE   TAX  LOT_SQFT  ...  KITCHEN  FIREPLACE  REMODEL\n",
              "0          1344.2  4330      9965  ...        1          0     None\n",
              "1          1412.6  5190      6590  ...        1          0   Recent\n",
              "2          1330.1  4152      7500  ...        1          0     None\n",
              "3          1498.6  6272     13773  ...        1          1     None\n",
              "4          1331.5  4170      5000  ...        1          0     None\n",
              "...           ...   ...       ...  ...      ...        ...      ...\n",
              "5797       1404.8  5092      6762  ...        1          1   Recent\n",
              "5798       1407.9  5131      9408  ...        1          1     None\n",
              "5799       1406.5  5113      7198  ...        1          1     None\n",
              "5800       1308.7  3883      6890  ...        1          0     None\n",
              "5801       1447.6  5630      7406  ...        1          1     None\n",
              "\n",
              "[5802 rows x 14 columns]"
            ]
          },
          "metadata": {
            "tags": []
          },
          "execution_count": 14
        }
      ]
    },
    {
      "cell_type": "markdown",
      "metadata": {
        "id": "jgCS6igdeVzW",
        "colab_type": "text"
      },
      "source": [
        "### Replacing missing data with median"
      ]
    },
    {
      "cell_type": "markdown",
      "metadata": {
        "id": "rHdy-ptagpWE",
        "colab_type": "text"
      },
      "source": [
        "In the code below, I do a random sample of rows (sample 10), and the change the BEDROOMS variable in these rows to be -1"
      ]
    },
    {
      "cell_type": "code",
      "metadata": {
        "id": "4rpWRozteWHL",
        "colab_type": "code",
        "colab": {
          "base_uri": "https://localhost:8080/",
          "height": 51
        },
        "outputId": "0de8396c-eedb-4e7b-f9c8-91f1d3d1a91e"
      },
      "source": [
        "tmp1_df = housing_df.copy() # create a copy of the original dataframe\n",
        "missing_rows = tmp1_df.sample(10).index\n",
        "tmp1_df.loc[missing_rows, 'BEDROOMS'] = np.nan\n",
        "print('Number of rows with valid BEDROOMS values after setting to NAN: ', tmp1_df['BEDROOMS'].count())\n",
        "print('Number of rows with invalid BEDROOMS values after setting to NAN: ', len(tmp1_df) - housing_df['BEDROOMS'].count())"
      ],
      "execution_count": null,
      "outputs": [
        {
          "output_type": "stream",
          "text": [
            "Number of rows with valid BEDROOMS values after setting to NAN:  5792\n",
            "Number of rows with invalid BEDROOMS values after setting to NAN:  0\n"
          ],
          "name": "stdout"
        }
      ]
    },
    {
      "cell_type": "markdown",
      "metadata": {
        "id": "aozjYF5SeWaf",
        "colab_type": "text"
      },
      "source": [
        "In the code below, we simply drop those rows with a np.nan value"
      ]
    },
    {
      "cell_type": "code",
      "metadata": {
        "id": "QMWuHSyHeWzj",
        "colab_type": "code",
        "colab": {
          "base_uri": "https://localhost:8080/",
          "height": 51
        },
        "outputId": "955dd9d1-4024-4ce5-da20-f740d53deb4f"
      },
      "source": [
        "median_bedrooms = tmp1_df['BEDROOMS'].median()\n",
        "tmp1_df.BEDROOMS = tmp1_df.BEDROOMS.fillna(value=median_bedrooms)\n",
        "print('Number of rows with valid BEDROOMS values after setting to NAN: ', tmp1_df['BEDROOMS'].count())\n",
        "print('Number of rows with invalid BEDROOMS values after setting to NAN: ', len(tmp1_df) - housing_df['BEDROOMS'].count())\n"
      ],
      "execution_count": null,
      "outputs": [
        {
          "output_type": "stream",
          "text": [
            "Number of rows with valid BEDROOMS values after setting to NAN:  5802\n",
            "Number of rows with invalid BEDROOMS values after setting to NAN:  0\n"
          ],
          "name": "stdout"
        }
      ]
    },
    {
      "cell_type": "markdown",
      "metadata": {
        "id": "uUOoTKAqidW7",
        "colab_type": "text"
      },
      "source": [
        "### Replacing bad data with median\n"
      ]
    },
    {
      "cell_type": "markdown",
      "metadata": {
        "id": "2L2Utupbit3v",
        "colab_type": "text"
      },
      "source": [
        "Let's add some \"bad data\" to our bedrooms (we'll add -1)"
      ]
    },
    {
      "cell_type": "code",
      "metadata": {
        "id": "9yhAnYkxibLP",
        "colab_type": "code",
        "colab": {
          "base_uri": "https://localhost:8080/",
          "height": 51
        },
        "outputId": "177b0138-66a9-422a-9e37-60ab92b20d2f"
      },
      "source": [
        "tmp1_df = housing_df.copy() # create a copy of the original dataframe\n",
        "missing_rows = tmp1_df.sample(10).index\n",
        "tmp1_df.loc[missing_rows, 'BEDROOMS'] = np.nan\n",
        "print('Number of rows with valid BEDROOMS values after setting to NAN: ', tmp1_df['BEDROOMS'].count())\n",
        "print('Number of rows with invalid BEDROOMS values after setting to NAN: ', len(tmp1_df) - housing_df['BEDROOMS'].count())"
      ],
      "execution_count": null,
      "outputs": [
        {
          "output_type": "stream",
          "text": [
            "Number of rows with valid BEDROOMS values after setting to NAN:  5792\n",
            "Number of rows with invalid BEDROOMS values after setting to NAN:  0\n"
          ],
          "name": "stdout"
        }
      ]
    },
    {
      "cell_type": "markdown",
      "metadata": {
        "id": "Egwi13Ecib7K",
        "colab_type": "text"
      },
      "source": [
        "Now let's replace those -1 values with the median"
      ]
    },
    {
      "cell_type": "code",
      "metadata": {
        "id": "isKeL4xhi0DE",
        "colab_type": "code",
        "colab": {
          "base_uri": "https://localhost:8080/",
          "height": 51
        },
        "outputId": "8c4f618e-73a2-4521-cd40-d185aabd4eab"
      },
      "source": [
        "median_bedrooms = tmp1_df['BEDROOMS'].median()\n",
        "tmp1_df['BEDROOMS'] = tmp1_df['BEDROOMS'].replace([-1],median_bedrooms)\n",
        "print('Number of rows with valid BEDROOMS values after setting to NAN: ', tmp1_df['BEDROOMS'].count())\n",
        "print('Number of rows with invalid BEDROOMS values after setting to NAN: ', len(tmp1_df) - housing_df['BEDROOMS'].count())"
      ],
      "execution_count": null,
      "outputs": [
        {
          "output_type": "stream",
          "text": [
            "Number of rows with valid BEDROOMS values after setting to NAN:  5792\n",
            "Number of rows with invalid BEDROOMS values after setting to NAN:  0\n"
          ],
          "name": "stdout"
        }
      ]
    },
    {
      "cell_type": "markdown",
      "metadata": {
        "id": "LOy8zmm9wudA",
        "colab_type": "text"
      },
      "source": [
        "### Dropping Rows or Columns"
      ]
    },
    {
      "cell_type": "code",
      "metadata": {
        "id": "l1iJ4fhMwzEp",
        "colab_type": "code",
        "colab": {
          "base_uri": "https://localhost:8080/",
          "height": 142
        },
        "outputId": "4ae88b4f-86fc-4438-ce23-497249753ff7"
      },
      "source": [
        "tmp1_df = housing_df.copy() # create a copy of the original dataframe\n",
        "tmp1_df.head(3)"
      ],
      "execution_count": null,
      "outputs": [
        {
          "output_type": "execute_result",
          "data": {
            "text/html": [
              "<div>\n",
              "<style scoped>\n",
              "    .dataframe tbody tr th:only-of-type {\n",
              "        vertical-align: middle;\n",
              "    }\n",
              "\n",
              "    .dataframe tbody tr th {\n",
              "        vertical-align: top;\n",
              "    }\n",
              "\n",
              "    .dataframe thead th {\n",
              "        text-align: right;\n",
              "    }\n",
              "</style>\n",
              "<table border=\"1\" class=\"dataframe\">\n",
              "  <thead>\n",
              "    <tr style=\"text-align: right;\">\n",
              "      <th></th>\n",
              "      <th>TOTAL_VALUE</th>\n",
              "      <th>TAX</th>\n",
              "      <th>LOT_SQFT</th>\n",
              "      <th>YR_BUILT</th>\n",
              "      <th>GROSS_AREA</th>\n",
              "      <th>LIVING_AREA</th>\n",
              "      <th>FLOORS</th>\n",
              "      <th>ROOMS</th>\n",
              "      <th>BEDROOMS</th>\n",
              "      <th>FULL_BATH</th>\n",
              "      <th>HALF_BATH</th>\n",
              "      <th>KITCHEN</th>\n",
              "      <th>FIREPLACE</th>\n",
              "      <th>REMODEL</th>\n",
              "    </tr>\n",
              "  </thead>\n",
              "  <tbody>\n",
              "    <tr>\n",
              "      <th>0</th>\n",
              "      <td>344.2</td>\n",
              "      <td>4330</td>\n",
              "      <td>9965</td>\n",
              "      <td>1880</td>\n",
              "      <td>2436</td>\n",
              "      <td>1352</td>\n",
              "      <td>2.0</td>\n",
              "      <td>6</td>\n",
              "      <td>3</td>\n",
              "      <td>1</td>\n",
              "      <td>1</td>\n",
              "      <td>1</td>\n",
              "      <td>0</td>\n",
              "      <td>None</td>\n",
              "    </tr>\n",
              "    <tr>\n",
              "      <th>1</th>\n",
              "      <td>412.6</td>\n",
              "      <td>5190</td>\n",
              "      <td>6590</td>\n",
              "      <td>1945</td>\n",
              "      <td>3108</td>\n",
              "      <td>1976</td>\n",
              "      <td>2.0</td>\n",
              "      <td>10</td>\n",
              "      <td>4</td>\n",
              "      <td>2</td>\n",
              "      <td>1</td>\n",
              "      <td>1</td>\n",
              "      <td>0</td>\n",
              "      <td>Recent</td>\n",
              "    </tr>\n",
              "    <tr>\n",
              "      <th>2</th>\n",
              "      <td>330.1</td>\n",
              "      <td>4152</td>\n",
              "      <td>7500</td>\n",
              "      <td>1890</td>\n",
              "      <td>2294</td>\n",
              "      <td>1371</td>\n",
              "      <td>2.0</td>\n",
              "      <td>8</td>\n",
              "      <td>4</td>\n",
              "      <td>1</td>\n",
              "      <td>1</td>\n",
              "      <td>1</td>\n",
              "      <td>0</td>\n",
              "      <td>None</td>\n",
              "    </tr>\n",
              "  </tbody>\n",
              "</table>\n",
              "</div>"
            ],
            "text/plain": [
              "   TOTAL_VALUE   TAX  LOT_SQFT  YR_BUILT  ...  HALF_BATH  KITCHEN  FIREPLACE  REMODEL\n",
              "0        344.2  4330      9965      1880  ...          1        1          0     None\n",
              "1        412.6  5190      6590      1945  ...          1        1          0   Recent\n",
              "2        330.1  4152      7500      1890  ...          1        1          0     None\n",
              "\n",
              "[3 rows x 14 columns]"
            ]
          },
          "metadata": {
            "tags": []
          },
          "execution_count": 19
        }
      ]
    },
    {
      "cell_type": "code",
      "metadata": {
        "id": "Ch8EMoyaxOU0",
        "colab_type": "code",
        "colab": {}
      },
      "source": [
        "tmp1_df.drop('TOTAL_VALUE', axis=1, inplace=True) # single column drop"
      ],
      "execution_count": null,
      "outputs": []
    },
    {
      "cell_type": "code",
      "metadata": {
        "id": "prn1yJnyxWsu",
        "colab_type": "code",
        "colab": {}
      },
      "source": [
        "tmp1_df.drop(['TAX', 'LOT_SQFT'], axis=1, inplace=True) # multi column drop"
      ],
      "execution_count": null,
      "outputs": []
    },
    {
      "cell_type": "code",
      "metadata": {
        "id": "YCsUgJYUxjH0",
        "colab_type": "code",
        "colab": {}
      },
      "source": [
        "tmp1_df.drop(1, axis=0, inplace=True) # single row drop"
      ],
      "execution_count": null,
      "outputs": []
    },
    {
      "cell_type": "code",
      "metadata": {
        "id": "GAR1CTF7xqsS",
        "colab_type": "code",
        "colab": {}
      },
      "source": [
        "tmp1_df.drop([0,4,5], axis=0, inplace=True) # multi row drop"
      ],
      "execution_count": null,
      "outputs": []
    },
    {
      "cell_type": "code",
      "metadata": {
        "id": "erM4Fi81x-M6",
        "colab_type": "code",
        "colab": {}
      },
      "source": [
        "tmp1_df.reset_index(inplace=True) # here we reset the index -- starting from 0"
      ],
      "execution_count": null,
      "outputs": []
    },
    {
      "cell_type": "code",
      "metadata": {
        "id": "jHjI45hKyGVe",
        "colab_type": "code",
        "colab": {
          "base_uri": "https://localhost:8080/",
          "height": 419
        },
        "outputId": "a7924da7-5787-4ec6-e657-58dfe79f9131"
      },
      "source": [
        "tmp1_df"
      ],
      "execution_count": null,
      "outputs": [
        {
          "output_type": "execute_result",
          "data": {
            "text/html": [
              "<div>\n",
              "<style scoped>\n",
              "    .dataframe tbody tr th:only-of-type {\n",
              "        vertical-align: middle;\n",
              "    }\n",
              "\n",
              "    .dataframe tbody tr th {\n",
              "        vertical-align: top;\n",
              "    }\n",
              "\n",
              "    .dataframe thead th {\n",
              "        text-align: right;\n",
              "    }\n",
              "</style>\n",
              "<table border=\"1\" class=\"dataframe\">\n",
              "  <thead>\n",
              "    <tr style=\"text-align: right;\">\n",
              "      <th></th>\n",
              "      <th>index</th>\n",
              "      <th>YR_BUILT</th>\n",
              "      <th>GROSS_AREA</th>\n",
              "      <th>LIVING_AREA</th>\n",
              "      <th>FLOORS</th>\n",
              "      <th>ROOMS</th>\n",
              "      <th>BEDROOMS</th>\n",
              "      <th>FULL_BATH</th>\n",
              "      <th>HALF_BATH</th>\n",
              "      <th>KITCHEN</th>\n",
              "      <th>FIREPLACE</th>\n",
              "      <th>REMODEL</th>\n",
              "    </tr>\n",
              "  </thead>\n",
              "  <tbody>\n",
              "    <tr>\n",
              "      <th>0</th>\n",
              "      <td>2</td>\n",
              "      <td>1890</td>\n",
              "      <td>2294</td>\n",
              "      <td>1371</td>\n",
              "      <td>2.0</td>\n",
              "      <td>8</td>\n",
              "      <td>4</td>\n",
              "      <td>1</td>\n",
              "      <td>1</td>\n",
              "      <td>1</td>\n",
              "      <td>0</td>\n",
              "      <td>None</td>\n",
              "    </tr>\n",
              "    <tr>\n",
              "      <th>1</th>\n",
              "      <td>3</td>\n",
              "      <td>1957</td>\n",
              "      <td>5032</td>\n",
              "      <td>2608</td>\n",
              "      <td>1.0</td>\n",
              "      <td>9</td>\n",
              "      <td>5</td>\n",
              "      <td>1</td>\n",
              "      <td>1</td>\n",
              "      <td>1</td>\n",
              "      <td>1</td>\n",
              "      <td>None</td>\n",
              "    </tr>\n",
              "    <tr>\n",
              "      <th>2</th>\n",
              "      <td>6</td>\n",
              "      <td>1954</td>\n",
              "      <td>3220</td>\n",
              "      <td>1916</td>\n",
              "      <td>2.0</td>\n",
              "      <td>7</td>\n",
              "      <td>3</td>\n",
              "      <td>1</td>\n",
              "      <td>1</td>\n",
              "      <td>1</td>\n",
              "      <td>0</td>\n",
              "      <td>None</td>\n",
              "    </tr>\n",
              "    <tr>\n",
              "      <th>3</th>\n",
              "      <td>7</td>\n",
              "      <td>1950</td>\n",
              "      <td>2208</td>\n",
              "      <td>1200</td>\n",
              "      <td>1.0</td>\n",
              "      <td>6</td>\n",
              "      <td>3</td>\n",
              "      <td>1</td>\n",
              "      <td>0</td>\n",
              "      <td>1</td>\n",
              "      <td>0</td>\n",
              "      <td>None</td>\n",
              "    </tr>\n",
              "    <tr>\n",
              "      <th>4</th>\n",
              "      <td>8</td>\n",
              "      <td>1958</td>\n",
              "      <td>2582</td>\n",
              "      <td>1092</td>\n",
              "      <td>1.0</td>\n",
              "      <td>5</td>\n",
              "      <td>3</td>\n",
              "      <td>1</td>\n",
              "      <td>0</td>\n",
              "      <td>1</td>\n",
              "      <td>1</td>\n",
              "      <td>Recent</td>\n",
              "    </tr>\n",
              "    <tr>\n",
              "      <th>...</th>\n",
              "      <td>...</td>\n",
              "      <td>...</td>\n",
              "      <td>...</td>\n",
              "      <td>...</td>\n",
              "      <td>...</td>\n",
              "      <td>...</td>\n",
              "      <td>...</td>\n",
              "      <td>...</td>\n",
              "      <td>...</td>\n",
              "      <td>...</td>\n",
              "      <td>...</td>\n",
              "      <td>...</td>\n",
              "    </tr>\n",
              "    <tr>\n",
              "      <th>5793</th>\n",
              "      <td>5797</td>\n",
              "      <td>1938</td>\n",
              "      <td>2594</td>\n",
              "      <td>1714</td>\n",
              "      <td>2.0</td>\n",
              "      <td>9</td>\n",
              "      <td>3</td>\n",
              "      <td>2</td>\n",
              "      <td>1</td>\n",
              "      <td>1</td>\n",
              "      <td>1</td>\n",
              "      <td>Recent</td>\n",
              "    </tr>\n",
              "    <tr>\n",
              "      <th>5794</th>\n",
              "      <td>5798</td>\n",
              "      <td>1950</td>\n",
              "      <td>2414</td>\n",
              "      <td>1333</td>\n",
              "      <td>2.0</td>\n",
              "      <td>6</td>\n",
              "      <td>3</td>\n",
              "      <td>1</td>\n",
              "      <td>1</td>\n",
              "      <td>1</td>\n",
              "      <td>1</td>\n",
              "      <td>None</td>\n",
              "    </tr>\n",
              "    <tr>\n",
              "      <th>5795</th>\n",
              "      <td>5799</td>\n",
              "      <td>1987</td>\n",
              "      <td>2480</td>\n",
              "      <td>1674</td>\n",
              "      <td>2.0</td>\n",
              "      <td>7</td>\n",
              "      <td>3</td>\n",
              "      <td>1</td>\n",
              "      <td>1</td>\n",
              "      <td>1</td>\n",
              "      <td>1</td>\n",
              "      <td>None</td>\n",
              "    </tr>\n",
              "    <tr>\n",
              "      <th>5796</th>\n",
              "      <td>5800</td>\n",
              "      <td>1946</td>\n",
              "      <td>2000</td>\n",
              "      <td>1000</td>\n",
              "      <td>1.0</td>\n",
              "      <td>5</td>\n",
              "      <td>2</td>\n",
              "      <td>1</td>\n",
              "      <td>0</td>\n",
              "      <td>1</td>\n",
              "      <td>0</td>\n",
              "      <td>None</td>\n",
              "    </tr>\n",
              "    <tr>\n",
              "      <th>5797</th>\n",
              "      <td>5801</td>\n",
              "      <td>1950</td>\n",
              "      <td>2510</td>\n",
              "      <td>1600</td>\n",
              "      <td>2.0</td>\n",
              "      <td>7</td>\n",
              "      <td>3</td>\n",
              "      <td>1</td>\n",
              "      <td>1</td>\n",
              "      <td>1</td>\n",
              "      <td>1</td>\n",
              "      <td>None</td>\n",
              "    </tr>\n",
              "  </tbody>\n",
              "</table>\n",
              "<p>5798 rows × 12 columns</p>\n",
              "</div>"
            ],
            "text/plain": [
              "      index  YR_BUILT  GROSS_AREA  ...  KITCHEN  FIREPLACE  REMODEL\n",
              "0         2      1890        2294  ...        1          0     None\n",
              "1         3      1957        5032  ...        1          1     None\n",
              "2         6      1954        3220  ...        1          0     None\n",
              "3         7      1950        2208  ...        1          0     None\n",
              "4         8      1958        2582  ...        1          1   Recent\n",
              "...     ...       ...         ...  ...      ...        ...      ...\n",
              "5793   5797      1938        2594  ...        1          1   Recent\n",
              "5794   5798      1950        2414  ...        1          1     None\n",
              "5795   5799      1987        2480  ...        1          1     None\n",
              "5796   5800      1946        2000  ...        1          0     None\n",
              "5797   5801      1950        2510  ...        1          1     None\n",
              "\n",
              "[5798 rows x 12 columns]"
            ]
          },
          "metadata": {
            "tags": []
          },
          "execution_count": 27
        }
      ]
    },
    {
      "cell_type": "markdown",
      "metadata": {
        "id": "jVhVw84JzfUw",
        "colab_type": "text"
      },
      "source": [
        "## DataFrame copying\n",
        "\n",
        "The assignment operator (the equals sign) doesn't do what you might expect it to do - it does not create a copy of the dataframe. "
      ]
    },
    {
      "cell_type": "markdown",
      "metadata": {
        "id": "UPQwIOVCzkjS",
        "colab_type": "text"
      },
      "source": [
        "### Assignment operator doesn't create a copy of the DataFrame "
      ]
    },
    {
      "cell_type": "markdown",
      "metadata": {
        "id": "TBpM7-A_qFLd",
        "colab_type": "text"
      },
      "source": [
        "In this section, I'll create a new datafram called df1. Then, I'll attempt to make a copy of df1 into df2. Notice what happens when I make changes to df1? You should notice that the changes I made to df1 were also made to df2. \n",
        "\n",
        "Why is that? \n",
        "\n",
        "The assignment operator didn't create a copy of df1 into df2, but rather created a new dataframe variable that references the same data in df1. "
      ]
    },
    {
      "cell_type": "code",
      "metadata": {
        "id": "OvbYqKARy5Ga",
        "colab_type": "code",
        "colab": {
          "base_uri": "https://localhost:8080/",
          "height": 173
        },
        "outputId": "8fac7f40-e6ec-4d30-eda9-c56d91e9907d"
      },
      "source": [
        "df1= pd.DataFrame()\n",
        "df1['COL1'] = [1,2,3,4]\n",
        "df1"
      ],
      "execution_count": null,
      "outputs": [
        {
          "output_type": "execute_result",
          "data": {
            "text/html": [
              "<div>\n",
              "<style scoped>\n",
              "    .dataframe tbody tr th:only-of-type {\n",
              "        vertical-align: middle;\n",
              "    }\n",
              "\n",
              "    .dataframe tbody tr th {\n",
              "        vertical-align: top;\n",
              "    }\n",
              "\n",
              "    .dataframe thead th {\n",
              "        text-align: right;\n",
              "    }\n",
              "</style>\n",
              "<table border=\"1\" class=\"dataframe\">\n",
              "  <thead>\n",
              "    <tr style=\"text-align: right;\">\n",
              "      <th></th>\n",
              "      <th>COL1</th>\n",
              "    </tr>\n",
              "  </thead>\n",
              "  <tbody>\n",
              "    <tr>\n",
              "      <th>0</th>\n",
              "      <td>1</td>\n",
              "    </tr>\n",
              "    <tr>\n",
              "      <th>1</th>\n",
              "      <td>2</td>\n",
              "    </tr>\n",
              "    <tr>\n",
              "      <th>2</th>\n",
              "      <td>3</td>\n",
              "    </tr>\n",
              "    <tr>\n",
              "      <th>3</th>\n",
              "      <td>4</td>\n",
              "    </tr>\n",
              "  </tbody>\n",
              "</table>\n",
              "</div>"
            ],
            "text/plain": [
              "   COL1\n",
              "0     1\n",
              "1     2\n",
              "2     3\n",
              "3     4"
            ]
          },
          "metadata": {
            "tags": []
          },
          "execution_count": 29
        }
      ]
    },
    {
      "cell_type": "code",
      "metadata": {
        "id": "phxnKebqzDFX",
        "colab_type": "code",
        "colab": {
          "base_uri": "https://localhost:8080/",
          "height": 173
        },
        "outputId": "505441d0-9ef0-4539-b2ff-eeb80e6d5bec"
      },
      "source": [
        "df2 = df1\n",
        "df2"
      ],
      "execution_count": null,
      "outputs": [
        {
          "output_type": "execute_result",
          "data": {
            "text/html": [
              "<div>\n",
              "<style scoped>\n",
              "    .dataframe tbody tr th:only-of-type {\n",
              "        vertical-align: middle;\n",
              "    }\n",
              "\n",
              "    .dataframe tbody tr th {\n",
              "        vertical-align: top;\n",
              "    }\n",
              "\n",
              "    .dataframe thead th {\n",
              "        text-align: right;\n",
              "    }\n",
              "</style>\n",
              "<table border=\"1\" class=\"dataframe\">\n",
              "  <thead>\n",
              "    <tr style=\"text-align: right;\">\n",
              "      <th></th>\n",
              "      <th>COL1</th>\n",
              "    </tr>\n",
              "  </thead>\n",
              "  <tbody>\n",
              "    <tr>\n",
              "      <th>0</th>\n",
              "      <td>1</td>\n",
              "    </tr>\n",
              "    <tr>\n",
              "      <th>1</th>\n",
              "      <td>2</td>\n",
              "    </tr>\n",
              "    <tr>\n",
              "      <th>2</th>\n",
              "      <td>3</td>\n",
              "    </tr>\n",
              "    <tr>\n",
              "      <th>3</th>\n",
              "      <td>4</td>\n",
              "    </tr>\n",
              "  </tbody>\n",
              "</table>\n",
              "</div>"
            ],
            "text/plain": [
              "   COL1\n",
              "0     1\n",
              "1     2\n",
              "2     3\n",
              "3     4"
            ]
          },
          "metadata": {
            "tags": []
          },
          "execution_count": 31
        }
      ]
    },
    {
      "cell_type": "markdown",
      "metadata": {
        "id": "VzU1KlFzzC-k",
        "colab_type": "text"
      },
      "source": [
        ""
      ]
    },
    {
      "cell_type": "code",
      "metadata": {
        "id": "mhwKe295zGUn",
        "colab_type": "code",
        "colab": {
          "base_uri": "https://localhost:8080/",
          "height": 173
        },
        "outputId": "2f6a9392-eef6-4c42-a1e1-0dbf5a8b62de"
      },
      "source": [
        "df1.loc[0,'COL1']  = 123\n",
        "df1"
      ],
      "execution_count": null,
      "outputs": [
        {
          "output_type": "execute_result",
          "data": {
            "text/html": [
              "<div>\n",
              "<style scoped>\n",
              "    .dataframe tbody tr th:only-of-type {\n",
              "        vertical-align: middle;\n",
              "    }\n",
              "\n",
              "    .dataframe tbody tr th {\n",
              "        vertical-align: top;\n",
              "    }\n",
              "\n",
              "    .dataframe thead th {\n",
              "        text-align: right;\n",
              "    }\n",
              "</style>\n",
              "<table border=\"1\" class=\"dataframe\">\n",
              "  <thead>\n",
              "    <tr style=\"text-align: right;\">\n",
              "      <th></th>\n",
              "      <th>COL1</th>\n",
              "    </tr>\n",
              "  </thead>\n",
              "  <tbody>\n",
              "    <tr>\n",
              "      <th>0</th>\n",
              "      <td>123</td>\n",
              "    </tr>\n",
              "    <tr>\n",
              "      <th>1</th>\n",
              "      <td>2</td>\n",
              "    </tr>\n",
              "    <tr>\n",
              "      <th>2</th>\n",
              "      <td>3</td>\n",
              "    </tr>\n",
              "    <tr>\n",
              "      <th>3</th>\n",
              "      <td>4</td>\n",
              "    </tr>\n",
              "  </tbody>\n",
              "</table>\n",
              "</div>"
            ],
            "text/plain": [
              "   COL1\n",
              "0   123\n",
              "1     2\n",
              "2     3\n",
              "3     4"
            ]
          },
          "metadata": {
            "tags": []
          },
          "execution_count": 33
        }
      ]
    },
    {
      "cell_type": "code",
      "metadata": {
        "id": "I_b5qgzkza1b",
        "colab_type": "code",
        "colab": {
          "base_uri": "https://localhost:8080/",
          "height": 173
        },
        "outputId": "82de826f-19d8-4c83-93b3-71aa28ba55ae"
      },
      "source": [
        "df2"
      ],
      "execution_count": null,
      "outputs": [
        {
          "output_type": "execute_result",
          "data": {
            "text/html": [
              "<div>\n",
              "<style scoped>\n",
              "    .dataframe tbody tr th:only-of-type {\n",
              "        vertical-align: middle;\n",
              "    }\n",
              "\n",
              "    .dataframe tbody tr th {\n",
              "        vertical-align: top;\n",
              "    }\n",
              "\n",
              "    .dataframe thead th {\n",
              "        text-align: right;\n",
              "    }\n",
              "</style>\n",
              "<table border=\"1\" class=\"dataframe\">\n",
              "  <thead>\n",
              "    <tr style=\"text-align: right;\">\n",
              "      <th></th>\n",
              "      <th>COL1</th>\n",
              "    </tr>\n",
              "  </thead>\n",
              "  <tbody>\n",
              "    <tr>\n",
              "      <th>0</th>\n",
              "      <td>123</td>\n",
              "    </tr>\n",
              "    <tr>\n",
              "      <th>1</th>\n",
              "      <td>2</td>\n",
              "    </tr>\n",
              "    <tr>\n",
              "      <th>2</th>\n",
              "      <td>3</td>\n",
              "    </tr>\n",
              "    <tr>\n",
              "      <th>3</th>\n",
              "      <td>4</td>\n",
              "    </tr>\n",
              "  </tbody>\n",
              "</table>\n",
              "</div>"
            ],
            "text/plain": [
              "   COL1\n",
              "0   123\n",
              "1     2\n",
              "2     3\n",
              "3     4"
            ]
          },
          "metadata": {
            "tags": []
          },
          "execution_count": 34
        }
      ]
    },
    {
      "cell_type": "markdown",
      "metadata": {
        "id": "1HvES_9jzvYr",
        "colab_type": "text"
      },
      "source": [
        "### This is what you do when you really want to make a full copy of a DataFrame"
      ]
    },
    {
      "cell_type": "markdown",
      "metadata": {
        "id": "oQ7W0up4qkow",
        "colab_type": "text"
      },
      "source": [
        "If we want to make a copy  of a data frame, we need to use the copy method. This is illustrated below..."
      ]
    },
    {
      "cell_type": "code",
      "metadata": {
        "id": "Cdg7Sp_oz159",
        "colab_type": "code",
        "colab": {
          "base_uri": "https://localhost:8080/",
          "height": 173
        },
        "outputId": "3f953a40-3d0a-4cd3-ced5-320b296c91f0"
      },
      "source": [
        "df1= pd.DataFrame()\n",
        "df1['COL1'] = [1,2,3,4]\n",
        "df1"
      ],
      "execution_count": null,
      "outputs": [
        {
          "output_type": "execute_result",
          "data": {
            "text/html": [
              "<div>\n",
              "<style scoped>\n",
              "    .dataframe tbody tr th:only-of-type {\n",
              "        vertical-align: middle;\n",
              "    }\n",
              "\n",
              "    .dataframe tbody tr th {\n",
              "        vertical-align: top;\n",
              "    }\n",
              "\n",
              "    .dataframe thead th {\n",
              "        text-align: right;\n",
              "    }\n",
              "</style>\n",
              "<table border=\"1\" class=\"dataframe\">\n",
              "  <thead>\n",
              "    <tr style=\"text-align: right;\">\n",
              "      <th></th>\n",
              "      <th>COL1</th>\n",
              "    </tr>\n",
              "  </thead>\n",
              "  <tbody>\n",
              "    <tr>\n",
              "      <th>0</th>\n",
              "      <td>1</td>\n",
              "    </tr>\n",
              "    <tr>\n",
              "      <th>1</th>\n",
              "      <td>2</td>\n",
              "    </tr>\n",
              "    <tr>\n",
              "      <th>2</th>\n",
              "      <td>3</td>\n",
              "    </tr>\n",
              "    <tr>\n",
              "      <th>3</th>\n",
              "      <td>4</td>\n",
              "    </tr>\n",
              "  </tbody>\n",
              "</table>\n",
              "</div>"
            ],
            "text/plain": [
              "   COL1\n",
              "0     1\n",
              "1     2\n",
              "2     3\n",
              "3     4"
            ]
          },
          "metadata": {
            "tags": []
          },
          "execution_count": 35
        }
      ]
    },
    {
      "cell_type": "code",
      "metadata": {
        "id": "MY5jNOgUz6sq",
        "colab_type": "code",
        "colab": {
          "base_uri": "https://localhost:8080/",
          "height": 173
        },
        "outputId": "b8858328-fa8d-4ca0-ec88-6728dab09bb9"
      },
      "source": [
        "df2=df1.copy()\n",
        "df2"
      ],
      "execution_count": null,
      "outputs": [
        {
          "output_type": "execute_result",
          "data": {
            "text/html": [
              "<div>\n",
              "<style scoped>\n",
              "    .dataframe tbody tr th:only-of-type {\n",
              "        vertical-align: middle;\n",
              "    }\n",
              "\n",
              "    .dataframe tbody tr th {\n",
              "        vertical-align: top;\n",
              "    }\n",
              "\n",
              "    .dataframe thead th {\n",
              "        text-align: right;\n",
              "    }\n",
              "</style>\n",
              "<table border=\"1\" class=\"dataframe\">\n",
              "  <thead>\n",
              "    <tr style=\"text-align: right;\">\n",
              "      <th></th>\n",
              "      <th>COL1</th>\n",
              "    </tr>\n",
              "  </thead>\n",
              "  <tbody>\n",
              "    <tr>\n",
              "      <th>0</th>\n",
              "      <td>1</td>\n",
              "    </tr>\n",
              "    <tr>\n",
              "      <th>1</th>\n",
              "      <td>2</td>\n",
              "    </tr>\n",
              "    <tr>\n",
              "      <th>2</th>\n",
              "      <td>3</td>\n",
              "    </tr>\n",
              "    <tr>\n",
              "      <th>3</th>\n",
              "      <td>4</td>\n",
              "    </tr>\n",
              "  </tbody>\n",
              "</table>\n",
              "</div>"
            ],
            "text/plain": [
              "   COL1\n",
              "0     1\n",
              "1     2\n",
              "2     3\n",
              "3     4"
            ]
          },
          "metadata": {
            "tags": []
          },
          "execution_count": 37
        }
      ]
    },
    {
      "cell_type": "code",
      "metadata": {
        "id": "DApkHoNWz_kh",
        "colab_type": "code",
        "colab": {
          "base_uri": "https://localhost:8080/",
          "height": 173
        },
        "outputId": "a922e0be-0e64-487d-aceb-cb2a9b20e14f"
      },
      "source": [
        "df1.loc[0,'COL1']  = 123\n",
        "df1"
      ],
      "execution_count": null,
      "outputs": [
        {
          "output_type": "execute_result",
          "data": {
            "text/html": [
              "<div>\n",
              "<style scoped>\n",
              "    .dataframe tbody tr th:only-of-type {\n",
              "        vertical-align: middle;\n",
              "    }\n",
              "\n",
              "    .dataframe tbody tr th {\n",
              "        vertical-align: top;\n",
              "    }\n",
              "\n",
              "    .dataframe thead th {\n",
              "        text-align: right;\n",
              "    }\n",
              "</style>\n",
              "<table border=\"1\" class=\"dataframe\">\n",
              "  <thead>\n",
              "    <tr style=\"text-align: right;\">\n",
              "      <th></th>\n",
              "      <th>COL1</th>\n",
              "    </tr>\n",
              "  </thead>\n",
              "  <tbody>\n",
              "    <tr>\n",
              "      <th>0</th>\n",
              "      <td>123</td>\n",
              "    </tr>\n",
              "    <tr>\n",
              "      <th>1</th>\n",
              "      <td>2</td>\n",
              "    </tr>\n",
              "    <tr>\n",
              "      <th>2</th>\n",
              "      <td>3</td>\n",
              "    </tr>\n",
              "    <tr>\n",
              "      <th>3</th>\n",
              "      <td>4</td>\n",
              "    </tr>\n",
              "  </tbody>\n",
              "</table>\n",
              "</div>"
            ],
            "text/plain": [
              "   COL1\n",
              "0   123\n",
              "1     2\n",
              "2     3\n",
              "3     4"
            ]
          },
          "metadata": {
            "tags": []
          },
          "execution_count": 38
        }
      ]
    },
    {
      "cell_type": "code",
      "metadata": {
        "id": "VGCRZynw0BNg",
        "colab_type": "code",
        "colab": {
          "base_uri": "https://localhost:8080/",
          "height": 173
        },
        "outputId": "e1ef9f14-950f-4f73-dab3-2dea181dcc82"
      },
      "source": [
        "df2"
      ],
      "execution_count": null,
      "outputs": [
        {
          "output_type": "execute_result",
          "data": {
            "text/html": [
              "<div>\n",
              "<style scoped>\n",
              "    .dataframe tbody tr th:only-of-type {\n",
              "        vertical-align: middle;\n",
              "    }\n",
              "\n",
              "    .dataframe tbody tr th {\n",
              "        vertical-align: top;\n",
              "    }\n",
              "\n",
              "    .dataframe thead th {\n",
              "        text-align: right;\n",
              "    }\n",
              "</style>\n",
              "<table border=\"1\" class=\"dataframe\">\n",
              "  <thead>\n",
              "    <tr style=\"text-align: right;\">\n",
              "      <th></th>\n",
              "      <th>COL1</th>\n",
              "    </tr>\n",
              "  </thead>\n",
              "  <tbody>\n",
              "    <tr>\n",
              "      <th>0</th>\n",
              "      <td>1</td>\n",
              "    </tr>\n",
              "    <tr>\n",
              "      <th>1</th>\n",
              "      <td>2</td>\n",
              "    </tr>\n",
              "    <tr>\n",
              "      <th>2</th>\n",
              "      <td>3</td>\n",
              "    </tr>\n",
              "    <tr>\n",
              "      <th>3</th>\n",
              "      <td>4</td>\n",
              "    </tr>\n",
              "  </tbody>\n",
              "</table>\n",
              "</div>"
            ],
            "text/plain": [
              "   COL1\n",
              "0     1\n",
              "1     2\n",
              "2     3\n",
              "3     4"
            ]
          },
          "metadata": {
            "tags": []
          },
          "execution_count": 39
        }
      ]
    }
  ]
}