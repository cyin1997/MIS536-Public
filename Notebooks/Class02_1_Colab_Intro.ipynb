{
  "nbformat": 4,
  "nbformat_minor": 0,
  "metadata": {
    "kernelspec": {
      "display_name": "Python 3",
      "language": "python",
      "name": "python3"
    },
    "language_info": {
      "codemirror_mode": {
        "name": "ipython",
        "version": 3
      },
      "file_extension": ".py",
      "mimetype": "text/x-python",
      "name": "python",
      "nbconvert_exporter": "python",
      "pygments_lexer": "ipython3",
      "version": "3.7.1"
    },
    "colab": {
      "name": "Class02_1_Colab_Intro.ipynb",
      "provenance": [],
      "collapsed_sections": [],
      "toc_visible": true,
      "include_colab_link": true
    }
  },
  "cells": [
    {
      "cell_type": "markdown",
      "metadata": {
        "id": "view-in-github",
        "colab_type": "text"
      },
      "source": [
        "<a href=\"https://colab.research.google.com/github/timcsmith/MIS536-Public/blob/master/Notebooks/Class02_1_Colab_Intro.ipynb\" target=\"_parent\"><img src=\"https://colab.research.google.com/assets/colab-badge.svg\" alt=\"Open In Colab\"/></a>"
      ]
    },
    {
      "cell_type": "markdown",
      "metadata": {
        "id": "RmAmzi40WXM1",
        "colab_type": "text"
      },
      "source": [
        "# Class 2: Demo 1: Intro to Google Colab\n",
        "\n",
        "Author: Dr. T. Smith (timsmith@iastate.edu) (Fall, 2020)\n"
      ]
    },
    {
      "cell_type": "code",
      "metadata": {
        "id": "3UBCDKDbWXM2",
        "colab_type": "code",
        "colab": {}
      },
      "source": [
        "# The following \"magic\" command will result in displaying all figures inside the notebook \n",
        "# With Google Colab, this isn't required. If you're running this in another Jupyter Notebook\n",
        "# environment, you may need to uncomment.\n",
        "\n",
        "# %matplotlib inline \n",
        "\n",
        "import pandas as pd # libarary for dataframes (and other)\n",
        "import matplotlib.pylab as plt # library for graphing/plotting figures\n"
      ],
      "execution_count": null,
      "outputs": []
    },
    {
      "cell_type": "markdown",
      "metadata": {
        "id": "qC6XVmRYKLgi",
        "colab_type": "text"
      },
      "source": [
        "## Save a copy of this Notebook to your google drive\n",
        "\n",
        "Go to the File menu above. Select \"save a copy to drive\". This will result in saving your own personal copy of this Notebook. You'll find it in your google drive under the \"Colab Notebooks\" folder. Alternatively, instead of using the menu, you can type Ctrl-S. **Be sure to save often!**\n",
        "\n",
        "If you've loaded this introductory Notebook via GitHub, you'll notice that once you save the file, the filename change to \"Copy of....\". This indicates that you've saved a GitHub notebook copy and not updated the original Notebook on GitHub. \n",
        "\n",
        "To remove the \"Copy of...\" message that is prepended to your filename, click the Notebook's filename shown in Google Colab in the upper left. Rename the Notebook to whatever name you'd like.\n",
        "\n",
        ">There are plenty of resources online that introduce Google Colab: for instance, https://www.youtube.com/watch?v=inN8seMm7UI\n"
      ]
    },
    {
      "cell_type": "markdown",
      "metadata": {
        "id": "ebx5B8h5WXM6",
        "colab_type": "text"
      },
      "source": [
        "## Loading data from class GitHub repository\n",
        "Data used in this class will be available through the classes GitHub repository. This can be found here: https://github.com/timcsmith/MIS536-Public\n",
        "\n"
      ]
    },
    {
      "cell_type": "markdown",
      "metadata": {
        "id": "_xfioeYZfPPo",
        "colab_type": "text"
      },
      "source": [
        "### Finding the URL (address) to a specific data file\n",
        "\n",
        "Using your browser, go to the class GitHub repository. Navigate into the data folder and view the list of data files currently available. \n",
        "\n",
        "To load one of these data files into Google Colab, click on the file to view, and then select the little icon in the upper right-hand area of the display that says \"raw\". This will result in displaying the raw form of the data. Copy the address (URL) that you find in your browser. \n",
        "\n"
      ]
    },
    {
      "cell_type": "markdown",
      "metadata": {
        "id": "1QnuowIRyCOm",
        "colab_type": "text"
      },
      "source": [
        "### Load sample date file, WestRoxbury.csv. \n",
        "\n",
        "CSV files are \"comma seperated value\" files. It's a popular format for storing and sharing tabular data. \n",
        "\n",
        "Let's load the Westbury.csv fie found in the class repo:\n",
        "1. go to class GitHub repo\n",
        "2. Navigate to find WestRoxbury.csv file.\n",
        "3. Click on WestRoxbury.csv\n",
        "4. While viewing the file, find and click on the \"raw\" button in the upper hand corner. \n",
        "5. You should now see the raw WestBury.csv file contents displayed. Copy the browser address to this file. For this file, you should find something like https://raw.githubusercontent.com/timcsmith/MIS536-Public/master/Data/WestRoxbury.csv\n",
        "6. Copy this into the ```pd.read_csv``` function argument found in the snipper of code below. \n"
      ]
    },
    {
      "cell_type": "code",
      "metadata": {
        "id": "Jb_UsQDlWXM6",
        "colab_type": "code",
        "colab": {}
      },
      "source": [
        "# load the data (you will need to ensure the csv file is in your colab folder)\n",
        "housing_df = pd.read_csv(\"https://github.com/timcsmith/MIS536-Public/raw/master/Data/WestRoxbury.csv\")"
      ],
      "execution_count": null,
      "outputs": []
    },
    {
      "cell_type": "markdown",
      "metadata": {
        "id": "vLN1pQM2zMkB",
        "colab_type": "text"
      },
      "source": [
        "## Saving data\n",
        "\n",
        "When you start a Google Colab session, a virtual machine is created. Virtual machines are like self-contained computers but reside within a larger computer that is running many other virtual machines. These virtual machines are created when you start a session, and are then destroyed when you stop a session. This generally doesn't require you to do anything different, but it does need to be a consideration when you wish to proocess and save data from within your Python code. \n",
        "\n",
        "There are two general ways of handling this:\n",
        "1) save the data in the **virtual** machine, but download the data before ending your session. If you forget, they you can simply run the notebook again -- that is one of the advantages of doing you analysis in a programming language, all the steps to reproduce results are there. \n",
        "\n",
        "2) save the data directly to your google drive. Instead of downloading the file, you can also save the file directly to your google drive. This is generally more convenient, but it does require a little bit of extra coding. \n"
      ]
    },
    {
      "cell_type": "markdown",
      "metadata": {
        "id": "krJ8GAxp0T_v",
        "colab_type": "text"
      },
      "source": [
        "### Saving data to virtual machine\n"
      ]
    },
    {
      "cell_type": "code",
      "metadata": {
        "id": "6j0ClRsl0gbn",
        "colab_type": "code",
        "colab": {}
      },
      "source": [
        "housing_df.to_csv(\"housing.csv\")"
      ],
      "execution_count": null,
      "outputs": []
    },
    {
      "cell_type": "markdown",
      "metadata": {
        "id": "3ZEPZjt327R-",
        "colab_type": "text"
      },
      "source": [
        "To find the file you've just saved. Look to the far left of your Colab screen; and select the folder icon. Here you will see all the data stored on the virtual machine including the file you just saved. To download this file to your local computer, hover over the filename, and select the three stacked dots that display on the right side of the file name. One of the menu itmes you'll find there is to download the file. \n",
        "\n"
      ]
    },
    {
      "cell_type": "markdown",
      "metadata": {
        "id": "emPWTK500gxW",
        "colab_type": "text"
      },
      "source": [
        "### Saving data to Google Drive\n",
        "\n",
        "Like when saving to a virtual machine you save a file using ```to_csv```, but to save to your Google Drive you must first mount your google drive. \n",
        "\n",
        "Do do this, run the following code..."
      ]
    },
    {
      "cell_type": "code",
      "metadata": {
        "id": "5II1BHdD0i1z",
        "colab_type": "code",
        "colab": {
          "base_uri": "https://localhost:8080/",
          "height": 34
        },
        "outputId": "57d340f5-1bff-4593-c2c8-d169238c9323"
      },
      "source": [
        "from google.colab import drive\n",
        "drive.mount('/content/gdrive')"
      ],
      "execution_count": null,
      "outputs": [
        {
          "output_type": "stream",
          "text": [
            "Drive already mounted at /content/gdrive; to attempt to forcibly remount, call drive.mount(\"/content/gdrive\", force_remount=True).\n"
          ],
          "name": "stdout"
        }
      ]
    },
    {
      "cell_type": "markdown",
      "metadata": {
        "id": "p48Syfu34kcm",
        "colab_type": "text"
      },
      "source": [
        "Once you've mounted the drive, you should see a gdrive folder appear in the list of files on your virtual machine.  You can now save directly to your Google Drive using the following command...\n"
      ]
    },
    {
      "cell_type": "code",
      "metadata": {
        "id": "UgVso-Y64q2P",
        "colab_type": "code",
        "colab": {}
      },
      "source": [
        "housing_df.to_csv(\"/content/gdrive/My Drive/housing.csv\")\n"
      ],
      "execution_count": null,
      "outputs": []
    },
    {
      "cell_type": "markdown",
      "metadata": {
        "id": "aUJwiz3qRvrs",
        "colab_type": "text"
      },
      "source": [
        "## Loading data from Google Drive\n",
        "\n",
        "Once you've run the code to mount your google drive, you can load files that have been copied into Google Drive. "
      ]
    },
    {
      "cell_type": "code",
      "metadata": {
        "id": "Hobw3d63SDEW",
        "colab_type": "code",
        "colab": {}
      },
      "source": [
        "housing2 = pd.read_csv(\"/content/gdrive/My Drive/housing.csv\")"
      ],
      "execution_count": null,
      "outputs": []
    }
  ]
}