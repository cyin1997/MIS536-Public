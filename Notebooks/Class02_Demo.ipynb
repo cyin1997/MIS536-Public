{
  "nbformat": 4,
  "nbformat_minor": 0,
  "metadata": {
    "colab": {
      "name": "Class02-Demo.ipynb",
      "provenance": [],
      "authorship_tag": "ABX9TyN2hSScS+UocJWh5T5OSvuL",
      "include_colab_link": true
    },
    "kernelspec": {
      "name": "python3",
      "display_name": "Python 3"
    }
  },
  "cells": [
    {
      "cell_type": "markdown",
      "metadata": {
        "id": "view-in-github",
        "colab_type": "text"
      },
      "source": [
        "<a href=\"https://colab.research.google.com/github/timcsmith/MIS536-Public/blob/master/Notebooks/Class02_Demo.ipynb\" target=\"_parent\"><img src=\"https://colab.research.google.com/assets/colab-badge.svg\" alt=\"Open In Colab\"/></a>"
      ]
    },
    {
      "cell_type": "markdown",
      "metadata": {
        "id": "dUGFp4NirfUK",
        "colab_type": "text"
      },
      "source": [
        "# Hello World\n"
      ]
    },
    {
      "cell_type": "code",
      "metadata": {
        "id": "9_0dBN2Grlfg",
        "colab_type": "code",
        "colab": {
          "base_uri": "https://localhost:8080/",
          "height": 34
        },
        "outputId": "6048d02b-3398-4d0e-f547-67de679c25cd"
      },
      "source": [
        "print(\"Hello World\")"
      ],
      "execution_count": 5,
      "outputs": [
        {
          "output_type": "stream",
          "text": [
            "Hello World\n"
          ],
          "name": "stdout"
        }
      ]
    }
  ]
}