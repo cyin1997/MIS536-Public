{
  "nbformat": 4,
  "nbformat_minor": 0,
  "metadata": {
    "kernelspec": {
      "display_name": "Python 3",
      "language": "python",
      "name": "python3"
    },
    "language_info": {
      "codemirror_mode": {
        "name": "ipython",
        "version": 3
      },
      "file_extension": ".py",
      "mimetype": "text/x-python",
      "name": "python",
      "nbconvert_exporter": "python",
      "pygments_lexer": "ipython3",
      "version": "3.7.1"
    },
    "colab": {
      "name": "Copy of Class02_4_Variable_Summary.ipynb",
      "provenance": [],
      "collapsed_sections": [],
      "toc_visible": true,
      "include_colab_link": true
    }
  },
  "cells": [
    {
      "cell_type": "markdown",
      "metadata": {
        "id": "view-in-github",
        "colab_type": "text"
      },
      "source": [
        "<a href=\"https://colab.research.google.com/github/timcsmith/MIS536-Public/blob/master/Notebooks/Class02_4_Variable_Summary.ipynb\" target=\"_parent\"><img src=\"https://colab.research.google.com/assets/colab-badge.svg\" alt=\"Open In Colab\"/></a>"
      ]
    },
    {
      "cell_type": "markdown",
      "metadata": {
        "id": "RmAmzi40WXM1",
        "colab_type": "text"
      },
      "source": [
        "\n",
        "# Class 2: Part 4 - Variable Sumary/Descriptive Statistics\n",
        "\n",
        "\n",
        "Author: Dr. T. Smith (timsmith@iastate.edu) (Fall, 2020)\n",
        "\n",
        "A \"statistic\" is a summary. When we have many values in a variable, we may wish to utilize various statistics to describe and better understand the data. \n",
        "\n"
      ]
    },
    {
      "cell_type": "markdown",
      "metadata": {
        "id": "_jWAlDI8Uw8D",
        "colab_type": "text"
      },
      "source": [
        "## Load and do a quick clean of the data\n"
      ]
    },
    {
      "cell_type": "code",
      "metadata": {
        "id": "3UBCDKDbWXM2",
        "colab_type": "code",
        "colab": {}
      },
      "source": [
        "import pandas as pd # libarary for dataframes (and other)"
      ],
      "execution_count": null,
      "outputs": []
    },
    {
      "cell_type": "code",
      "metadata": {
        "id": "hokOAwkQ7u7n",
        "colab_type": "code",
        "colab": {}
      },
      "source": [
        "# Load data into dataframe\n",
        "housing_df = pd.read_csv(\"https://github.com/timcsmith/MIS536-Public/raw/master/Data/WestRoxbury.csv\")"
      ],
      "execution_count": null,
      "outputs": []
    },
    {
      "cell_type": "code",
      "metadata": {
        "id": "KqrTskOSTnRh",
        "colab_type": "code",
        "colab": {
          "base_uri": "https://localhost:8080/",
          "height": 204
        },
        "outputId": "3aa47c77-2e80-4b7d-d2dc-5cf24550c267"
      },
      "source": [
        "# quick look at the data\n",
        "housing_df.head()"
      ],
      "execution_count": null,
      "outputs": [
        {
          "output_type": "execute_result",
          "data": {
            "text/html": [
              "<div>\n",
              "<style scoped>\n",
              "    .dataframe tbody tr th:only-of-type {\n",
              "        vertical-align: middle;\n",
              "    }\n",
              "\n",
              "    .dataframe tbody tr th {\n",
              "        vertical-align: top;\n",
              "    }\n",
              "\n",
              "    .dataframe thead th {\n",
              "        text-align: right;\n",
              "    }\n",
              "</style>\n",
              "<table border=\"1\" class=\"dataframe\">\n",
              "  <thead>\n",
              "    <tr style=\"text-align: right;\">\n",
              "      <th></th>\n",
              "      <th>TOTAL_VALUE</th>\n",
              "      <th>TAX</th>\n",
              "      <th>LOT_SQFT</th>\n",
              "      <th>YR_BUILT</th>\n",
              "      <th>GROSS_AREA</th>\n",
              "      <th>LIVING_AREA</th>\n",
              "      <th>FLOORS</th>\n",
              "      <th>ROOMS</th>\n",
              "      <th>BEDROOMS</th>\n",
              "      <th>FULL_BATH</th>\n",
              "      <th>HALF_BATH</th>\n",
              "      <th>KITCHEN</th>\n",
              "      <th>FIREPLACE</th>\n",
              "      <th>REMODEL</th>\n",
              "    </tr>\n",
              "  </thead>\n",
              "  <tbody>\n",
              "    <tr>\n",
              "      <th>0</th>\n",
              "      <td>344.2</td>\n",
              "      <td>4330</td>\n",
              "      <td>9965</td>\n",
              "      <td>1880</td>\n",
              "      <td>2436</td>\n",
              "      <td>1352</td>\n",
              "      <td>2.0</td>\n",
              "      <td>6</td>\n",
              "      <td>3</td>\n",
              "      <td>1</td>\n",
              "      <td>1</td>\n",
              "      <td>1</td>\n",
              "      <td>0</td>\n",
              "      <td>None</td>\n",
              "    </tr>\n",
              "    <tr>\n",
              "      <th>1</th>\n",
              "      <td>412.6</td>\n",
              "      <td>5190</td>\n",
              "      <td>6590</td>\n",
              "      <td>1945</td>\n",
              "      <td>3108</td>\n",
              "      <td>1976</td>\n",
              "      <td>2.0</td>\n",
              "      <td>10</td>\n",
              "      <td>4</td>\n",
              "      <td>2</td>\n",
              "      <td>1</td>\n",
              "      <td>1</td>\n",
              "      <td>0</td>\n",
              "      <td>Recent</td>\n",
              "    </tr>\n",
              "    <tr>\n",
              "      <th>2</th>\n",
              "      <td>330.1</td>\n",
              "      <td>4152</td>\n",
              "      <td>7500</td>\n",
              "      <td>1890</td>\n",
              "      <td>2294</td>\n",
              "      <td>1371</td>\n",
              "      <td>2.0</td>\n",
              "      <td>8</td>\n",
              "      <td>4</td>\n",
              "      <td>1</td>\n",
              "      <td>1</td>\n",
              "      <td>1</td>\n",
              "      <td>0</td>\n",
              "      <td>None</td>\n",
              "    </tr>\n",
              "    <tr>\n",
              "      <th>3</th>\n",
              "      <td>498.6</td>\n",
              "      <td>6272</td>\n",
              "      <td>13773</td>\n",
              "      <td>1957</td>\n",
              "      <td>5032</td>\n",
              "      <td>2608</td>\n",
              "      <td>1.0</td>\n",
              "      <td>9</td>\n",
              "      <td>5</td>\n",
              "      <td>1</td>\n",
              "      <td>1</td>\n",
              "      <td>1</td>\n",
              "      <td>1</td>\n",
              "      <td>None</td>\n",
              "    </tr>\n",
              "    <tr>\n",
              "      <th>4</th>\n",
              "      <td>331.5</td>\n",
              "      <td>4170</td>\n",
              "      <td>5000</td>\n",
              "      <td>1910</td>\n",
              "      <td>2370</td>\n",
              "      <td>1438</td>\n",
              "      <td>2.0</td>\n",
              "      <td>7</td>\n",
              "      <td>3</td>\n",
              "      <td>2</td>\n",
              "      <td>0</td>\n",
              "      <td>1</td>\n",
              "      <td>0</td>\n",
              "      <td>None</td>\n",
              "    </tr>\n",
              "  </tbody>\n",
              "</table>\n",
              "</div>"
            ],
            "text/plain": [
              "   TOTAL_VALUE   TAX  LOT_SQFT  YR_BUILT  ...  HALF_BATH  KITCHEN  FIREPLACE  REMODEL\n",
              "0        344.2  4330      9965      1880  ...          1        1          0     None\n",
              "1        412.6  5190      6590      1945  ...          1        1          0   Recent\n",
              "2        330.1  4152      7500      1890  ...          1        1          0     None\n",
              "3        498.6  6272     13773      1957  ...          1        1          1     None\n",
              "4        331.5  4170      5000      1910  ...          0        1          0     None\n",
              "\n",
              "[5 rows x 14 columns]"
            ]
          },
          "metadata": {
            "tags": []
          },
          "execution_count": 60
        }
      ]
    },
    {
      "cell_type": "code",
      "metadata": {
        "id": "nL-P5gPIUc4m",
        "colab_type": "code",
        "colab": {
          "base_uri": "https://localhost:8080/",
          "height": 85
        },
        "outputId": "15a85511-b560-47c7-ac44-eba36c5229c4"
      },
      "source": [
        "# take a closer look at column names\n",
        "housing_df.columns"
      ],
      "execution_count": null,
      "outputs": [
        {
          "output_type": "execute_result",
          "data": {
            "text/plain": [
              "Index(['TOTAL VALUE ', 'TAX', 'LOT SQFT ', 'YR BUILT', 'GROSS AREA ',\n",
              "       'LIVING AREA', 'FLOORS ', 'ROOMS', 'BEDROOMS ', 'FULL BATH',\n",
              "       'HALF BATH', 'KITCHEN', 'FIREPLACE', 'REMODEL'],\n",
              "      dtype='object')"
            ]
          },
          "metadata": {
            "tags": []
          },
          "execution_count": 53
        }
      ]
    },
    {
      "cell_type": "code",
      "metadata": {
        "id": "a4f4nrfJUedb",
        "colab_type": "code",
        "colab": {}
      },
      "source": [
        "# let's remove the blank spaces in column names\n",
        "housing_df.columns = [s.strip().replace(' ','_') for s in housing_df.columns] # list comprehension, all columns"
      ],
      "execution_count": null,
      "outputs": []
    },
    {
      "cell_type": "markdown",
      "metadata": {
        "id": "RosfjvmdDbtL",
        "colab_type": "text"
      },
      "source": [
        "## Get the number of rows\n",
        "\n"
      ]
    },
    {
      "cell_type": "code",
      "metadata": {
        "id": "JBFxhfRQCkTa",
        "colab_type": "code",
        "colab": {
          "base_uri": "https://localhost:8080/",
          "height": 34
        },
        "outputId": "bcd9b43d-7d49-4e29-8e18-42c30a2e4c6f"
      },
      "source": [
        "len(housing_df) "
      ],
      "execution_count": null,
      "outputs": [
        {
          "output_type": "execute_result",
          "data": {
            "text/plain": [
              "5802"
            ]
          },
          "metadata": {
            "tags": []
          },
          "execution_count": 55
        }
      ]
    },
    {
      "cell_type": "markdown",
      "metadata": {
        "id": "GFZPS_quVK4Y",
        "colab_type": "text"
      },
      "source": [
        "## Get Number of Columns\n"
      ]
    },
    {
      "cell_type": "code",
      "metadata": {
        "id": "2eB-WXIlVOUn",
        "colab_type": "code",
        "colab": {
          "base_uri": "https://localhost:8080/",
          "height": 34
        },
        "outputId": "20e0c0a7-36e5-4a37-e25a-a914f3ff9237"
      },
      "source": [
        "len(housing_df.columns)"
      ],
      "execution_count": null,
      "outputs": [
        {
          "output_type": "execute_result",
          "data": {
            "text/plain": [
              "14"
            ]
          },
          "metadata": {
            "tags": []
          },
          "execution_count": 63
        }
      ]
    },
    {
      "cell_type": "markdown",
      "metadata": {
        "id": "FNtPM5PNTSLr",
        "colab_type": "text"
      },
      "source": [
        "## Mean (Average) of a column\n",
        "\n",
        "\n"
      ]
    },
    {
      "cell_type": "code",
      "metadata": {
        "id": "XA4C_e_CUYj9",
        "colab_type": "code",
        "colab": {
          "base_uri": "https://localhost:8080/",
          "height": 34
        },
        "outputId": "d4e2363e-b37e-495d-fab6-6c0d6c6a92c2"
      },
      "source": [
        "housing_df['TOTAL_VALUE'].mean()"
      ],
      "execution_count": null,
      "outputs": [
        {
          "output_type": "execute_result",
          "data": {
            "text/plain": [
              "392.6857149258885"
            ]
          },
          "metadata": {
            "tags": []
          },
          "execution_count": 61
        }
      ]
    },
    {
      "cell_type": "markdown",
      "metadata": {
        "id": "a3hduLIeVjFB",
        "colab_type": "text"
      },
      "source": [
        "## Standard Deviation"
      ]
    },
    {
      "cell_type": "code",
      "metadata": {
        "id": "saQFNU9yVh9E",
        "colab_type": "code",
        "colab": {
          "base_uri": "https://localhost:8080/",
          "height": 34
        },
        "outputId": "d6fad37b-7b2b-4f85-e105-db72355cf9f2"
      },
      "source": [
        "housing_df['TOTAL_VALUE'].std()"
      ],
      "execution_count": null,
      "outputs": [
        {
          "output_type": "execute_result",
          "data": {
            "text/plain": [
              "99.17741420172284"
            ]
          },
          "metadata": {
            "tags": []
          },
          "execution_count": 64
        }
      ]
    },
    {
      "cell_type": "markdown",
      "metadata": {
        "id": "f6wk9DPVWR8l",
        "colab_type": "text"
      },
      "source": [
        "## Min and Max"
      ]
    },
    {
      "cell_type": "code",
      "metadata": {
        "id": "OAbKcHnQWTUd",
        "colab_type": "code",
        "colab": {
          "base_uri": "https://localhost:8080/",
          "height": 272
        },
        "outputId": "c90a62e4-68d5-400e-f4cf-1cdf6f12ab49"
      },
      "source": [
        "housing_df.max()"
      ],
      "execution_count": null,
      "outputs": [
        {
          "output_type": "execute_result",
          "data": {
            "text/plain": [
              "TOTAL_VALUE    1217.8\n",
              "TAX             15319\n",
              "LOT_SQFT        46411\n",
              "YR_BUILT         2011\n",
              "GROSS_AREA       8154\n",
              "LIVING_AREA      5289\n",
              "FLOORS              3\n",
              "ROOMS              14\n",
              "BEDROOMS            9\n",
              "FULL_BATH           5\n",
              "HALF_BATH           3\n",
              "KITCHEN             2\n",
              "FIREPLACE           4\n",
              "REMODEL        Recent\n",
              "dtype: object"
            ]
          },
          "metadata": {
            "tags": []
          },
          "execution_count": 68
        }
      ]
    },
    {
      "cell_type": "code",
      "metadata": {
        "id": "mn6EfijSWeJZ",
        "colab_type": "code",
        "colab": {
          "base_uri": "https://localhost:8080/",
          "height": 34
        },
        "outputId": "ef10b96f-da01-481d-a7c0-972513bf5960"
      },
      "source": [
        "housing_df['TOTAL_VALUE'].max()"
      ],
      "execution_count": null,
      "outputs": [
        {
          "output_type": "execute_result",
          "data": {
            "text/plain": [
              "1217.8"
            ]
          },
          "metadata": {
            "tags": []
          },
          "execution_count": 70
        }
      ]
    },
    {
      "cell_type": "code",
      "metadata": {
        "id": "sJgm67kBWjDt",
        "colab_type": "code",
        "colab": {
          "base_uri": "https://localhost:8080/",
          "height": 34
        },
        "outputId": "40031c66-0d70-4a96-ae6b-9b7209311ce8"
      },
      "source": [
        "housing_df['TOTAL_VALUE'].min()"
      ],
      "execution_count": null,
      "outputs": [
        {
          "output_type": "execute_result",
          "data": {
            "text/plain": [
              "105.0"
            ]
          },
          "metadata": {
            "tags": []
          },
          "execution_count": 71
        }
      ]
    },
    {
      "cell_type": "markdown",
      "metadata": {
        "id": "g-INTkwiWVa_",
        "colab_type": "text"
      },
      "source": [
        "## Quantile"
      ]
    },
    {
      "cell_type": "code",
      "metadata": {
        "id": "7IhlnGO9WWkv",
        "colab_type": "code",
        "colab": {
          "base_uri": "https://localhost:8080/",
          "height": 255
        },
        "outputId": "e58a7d6c-7c1d-4516-cb66-e4017cfc57f7"
      },
      "source": [
        "housing_df.quantile(0.5)"
      ],
      "execution_count": null,
      "outputs": [
        {
          "output_type": "execute_result",
          "data": {
            "text/plain": [
              "TOTAL_VALUE     375.9\n",
              "TAX            4728.0\n",
              "LOT_SQFT       5683.0\n",
              "YR_BUILT       1935.0\n",
              "GROSS_AREA     2700.0\n",
              "LIVING_AREA    1548.5\n",
              "FLOORS            2.0\n",
              "ROOMS             7.0\n",
              "BEDROOMS          3.0\n",
              "FULL_BATH         1.0\n",
              "HALF_BATH         1.0\n",
              "KITCHEN           1.0\n",
              "FIREPLACE         1.0\n",
              "Name: 0.5, dtype: float64"
            ]
          },
          "metadata": {
            "tags": []
          },
          "execution_count": 72
        }
      ]
    },
    {
      "cell_type": "code",
      "metadata": {
        "id": "jY-lshQJWvwS",
        "colab_type": "code",
        "colab": {
          "base_uri": "https://localhost:8080/",
          "height": 34
        },
        "outputId": "ad3f201c-8a45-43bd-b4fc-d669045d41ed"
      },
      "source": [
        "housing_df['ROOMS'].quantile(0) # note that this is same as min"
      ],
      "execution_count": null,
      "outputs": [
        {
          "output_type": "execute_result",
          "data": {
            "text/plain": [
              "3.0"
            ]
          },
          "metadata": {
            "tags": []
          },
          "execution_count": 74
        }
      ]
    },
    {
      "cell_type": "code",
      "metadata": {
        "id": "E50chLW2W5id",
        "colab_type": "code",
        "colab": {
          "base_uri": "https://localhost:8080/",
          "height": 34
        },
        "outputId": "d22e03a5-90dc-4311-aa8d-5e7014849ccd"
      },
      "source": [
        "housing_df['ROOMS'].quantile(0.25)"
      ],
      "execution_count": null,
      "outputs": [
        {
          "output_type": "execute_result",
          "data": {
            "text/plain": [
              "6.0"
            ]
          },
          "metadata": {
            "tags": []
          },
          "execution_count": 75
        }
      ]
    },
    {
      "cell_type": "code",
      "metadata": {
        "id": "lJMEjJ7tW5_p",
        "colab_type": "code",
        "colab": {
          "base_uri": "https://localhost:8080/",
          "height": 34
        },
        "outputId": "4296dff9-52d6-447a-c56d-ea910945d4d4"
      },
      "source": [
        "housing_df['ROOMS'].quantile(0.50)"
      ],
      "execution_count": null,
      "outputs": [
        {
          "output_type": "execute_result",
          "data": {
            "text/plain": [
              "7.0"
            ]
          },
          "metadata": {
            "tags": []
          },
          "execution_count": 76
        }
      ]
    },
    {
      "cell_type": "code",
      "metadata": {
        "id": "CsapHYC-W7GJ",
        "colab_type": "code",
        "colab": {
          "base_uri": "https://localhost:8080/",
          "height": 34
        },
        "outputId": "f97a2090-5322-4a2e-b9e4-1a320aad7c83"
      },
      "source": [
        "housing_df['ROOMS'].quantile(0.75)"
      ],
      "execution_count": null,
      "outputs": [
        {
          "output_type": "execute_result",
          "data": {
            "text/plain": [
              "8.0"
            ]
          },
          "metadata": {
            "tags": []
          },
          "execution_count": 77
        }
      ]
    },
    {
      "cell_type": "code",
      "metadata": {
        "id": "Kj1Hlu05XB0B",
        "colab_type": "code",
        "colab": {
          "base_uri": "https://localhost:8080/",
          "height": 34
        },
        "outputId": "2c0b00e5-b121-4a02-ef6b-1cfc6c4a43a6"
      },
      "source": [
        "housing_df['ROOMS'].quantile(1.0) # note that this is the same as Max"
      ],
      "execution_count": null,
      "outputs": [
        {
          "output_type": "execute_result",
          "data": {
            "text/plain": [
              "14.0"
            ]
          },
          "metadata": {
            "tags": []
          },
          "execution_count": 78
        }
      ]
    },
    {
      "cell_type": "markdown",
      "metadata": {
        "id": "qBhf4bRdVrX4",
        "colab_type": "text"
      },
      "source": [
        "## Data summary\n",
        "\n"
      ]
    },
    {
      "cell_type": "code",
      "metadata": {
        "id": "VYbU56yJVqui",
        "colab_type": "code",
        "colab": {
          "base_uri": "https://localhost:8080/",
          "height": 317
        },
        "outputId": "76a3a088-bb02-4529-f731-a311a8de1032"
      },
      "source": [
        "housing_df.describe()"
      ],
      "execution_count": null,
      "outputs": [
        {
          "output_type": "execute_result",
          "data": {
            "text/html": [
              "<div>\n",
              "<style scoped>\n",
              "    .dataframe tbody tr th:only-of-type {\n",
              "        vertical-align: middle;\n",
              "    }\n",
              "\n",
              "    .dataframe tbody tr th {\n",
              "        vertical-align: top;\n",
              "    }\n",
              "\n",
              "    .dataframe thead th {\n",
              "        text-align: right;\n",
              "    }\n",
              "</style>\n",
              "<table border=\"1\" class=\"dataframe\">\n",
              "  <thead>\n",
              "    <tr style=\"text-align: right;\">\n",
              "      <th></th>\n",
              "      <th>TOTAL_VALUE</th>\n",
              "      <th>TAX</th>\n",
              "      <th>LOT_SQFT</th>\n",
              "      <th>YR_BUILT</th>\n",
              "      <th>GROSS_AREA</th>\n",
              "      <th>LIVING_AREA</th>\n",
              "      <th>FLOORS</th>\n",
              "      <th>ROOMS</th>\n",
              "      <th>BEDROOMS</th>\n",
              "      <th>FULL_BATH</th>\n",
              "      <th>HALF_BATH</th>\n",
              "      <th>KITCHEN</th>\n",
              "      <th>FIREPLACE</th>\n",
              "    </tr>\n",
              "  </thead>\n",
              "  <tbody>\n",
              "    <tr>\n",
              "      <th>count</th>\n",
              "      <td>5802.000000</td>\n",
              "      <td>5802.000000</td>\n",
              "      <td>5802.000000</td>\n",
              "      <td>5802.000000</td>\n",
              "      <td>5802.000000</td>\n",
              "      <td>5802.000000</td>\n",
              "      <td>5802.000000</td>\n",
              "      <td>5802.000000</td>\n",
              "      <td>5802.000000</td>\n",
              "      <td>5802.000000</td>\n",
              "      <td>5802.000000</td>\n",
              "      <td>5802.00000</td>\n",
              "      <td>5802.000000</td>\n",
              "    </tr>\n",
              "    <tr>\n",
              "      <th>mean</th>\n",
              "      <td>392.685715</td>\n",
              "      <td>4939.485867</td>\n",
              "      <td>6278.083764</td>\n",
              "      <td>1936.744916</td>\n",
              "      <td>2924.842123</td>\n",
              "      <td>1657.065322</td>\n",
              "      <td>1.683730</td>\n",
              "      <td>6.994829</td>\n",
              "      <td>3.230093</td>\n",
              "      <td>1.296794</td>\n",
              "      <td>0.613926</td>\n",
              "      <td>1.01534</td>\n",
              "      <td>0.739917</td>\n",
              "    </tr>\n",
              "    <tr>\n",
              "      <th>std</th>\n",
              "      <td>99.177414</td>\n",
              "      <td>1247.649118</td>\n",
              "      <td>2669.707974</td>\n",
              "      <td>35.989910</td>\n",
              "      <td>883.984726</td>\n",
              "      <td>540.456726</td>\n",
              "      <td>0.444884</td>\n",
              "      <td>1.437657</td>\n",
              "      <td>0.846607</td>\n",
              "      <td>0.522040</td>\n",
              "      <td>0.533839</td>\n",
              "      <td>0.12291</td>\n",
              "      <td>0.565108</td>\n",
              "    </tr>\n",
              "    <tr>\n",
              "      <th>min</th>\n",
              "      <td>105.000000</td>\n",
              "      <td>1320.000000</td>\n",
              "      <td>997.000000</td>\n",
              "      <td>0.000000</td>\n",
              "      <td>821.000000</td>\n",
              "      <td>504.000000</td>\n",
              "      <td>1.000000</td>\n",
              "      <td>3.000000</td>\n",
              "      <td>1.000000</td>\n",
              "      <td>1.000000</td>\n",
              "      <td>0.000000</td>\n",
              "      <td>1.00000</td>\n",
              "      <td>0.000000</td>\n",
              "    </tr>\n",
              "    <tr>\n",
              "      <th>25%</th>\n",
              "      <td>325.125000</td>\n",
              "      <td>4089.500000</td>\n",
              "      <td>4772.000000</td>\n",
              "      <td>1920.000000</td>\n",
              "      <td>2347.000000</td>\n",
              "      <td>1308.000000</td>\n",
              "      <td>1.000000</td>\n",
              "      <td>6.000000</td>\n",
              "      <td>3.000000</td>\n",
              "      <td>1.000000</td>\n",
              "      <td>0.000000</td>\n",
              "      <td>1.00000</td>\n",
              "      <td>0.000000</td>\n",
              "    </tr>\n",
              "    <tr>\n",
              "      <th>50%</th>\n",
              "      <td>375.900000</td>\n",
              "      <td>4728.000000</td>\n",
              "      <td>5683.000000</td>\n",
              "      <td>1935.000000</td>\n",
              "      <td>2700.000000</td>\n",
              "      <td>1548.500000</td>\n",
              "      <td>2.000000</td>\n",
              "      <td>7.000000</td>\n",
              "      <td>3.000000</td>\n",
              "      <td>1.000000</td>\n",
              "      <td>1.000000</td>\n",
              "      <td>1.00000</td>\n",
              "      <td>1.000000</td>\n",
              "    </tr>\n",
              "    <tr>\n",
              "      <th>75%</th>\n",
              "      <td>438.775000</td>\n",
              "      <td>5519.500000</td>\n",
              "      <td>7022.250000</td>\n",
              "      <td>1955.000000</td>\n",
              "      <td>3239.000000</td>\n",
              "      <td>1873.750000</td>\n",
              "      <td>2.000000</td>\n",
              "      <td>8.000000</td>\n",
              "      <td>4.000000</td>\n",
              "      <td>2.000000</td>\n",
              "      <td>1.000000</td>\n",
              "      <td>1.00000</td>\n",
              "      <td>1.000000</td>\n",
              "    </tr>\n",
              "    <tr>\n",
              "      <th>max</th>\n",
              "      <td>1217.800000</td>\n",
              "      <td>15319.000000</td>\n",
              "      <td>46411.000000</td>\n",
              "      <td>2011.000000</td>\n",
              "      <td>8154.000000</td>\n",
              "      <td>5289.000000</td>\n",
              "      <td>3.000000</td>\n",
              "      <td>14.000000</td>\n",
              "      <td>9.000000</td>\n",
              "      <td>5.000000</td>\n",
              "      <td>3.000000</td>\n",
              "      <td>2.00000</td>\n",
              "      <td>4.000000</td>\n",
              "    </tr>\n",
              "  </tbody>\n",
              "</table>\n",
              "</div>"
            ],
            "text/plain": [
              "       TOTAL_VALUE           TAX  ...     KITCHEN    FIREPLACE\n",
              "count  5802.000000   5802.000000  ...  5802.00000  5802.000000\n",
              "mean    392.685715   4939.485867  ...     1.01534     0.739917\n",
              "std      99.177414   1247.649118  ...     0.12291     0.565108\n",
              "min     105.000000   1320.000000  ...     1.00000     0.000000\n",
              "25%     325.125000   4089.500000  ...     1.00000     0.000000\n",
              "50%     375.900000   4728.000000  ...     1.00000     1.000000\n",
              "75%     438.775000   5519.500000  ...     1.00000     1.000000\n",
              "max    1217.800000  15319.000000  ...     2.00000     4.000000\n",
              "\n",
              "[8 rows x 13 columns]"
            ]
          },
          "metadata": {
            "tags": []
          },
          "execution_count": 65
        }
      ]
    },
    {
      "cell_type": "code",
      "metadata": {
        "id": "Kpa0Ll16V820",
        "colab_type": "code",
        "colab": {
          "base_uri": "https://localhost:8080/",
          "height": 297
        },
        "outputId": "94b90146-c17b-42eb-aeed-4c2b42261756"
      },
      "source": [
        "housing_df[['TAX']].describe()"
      ],
      "execution_count": null,
      "outputs": [
        {
          "output_type": "execute_result",
          "data": {
            "text/html": [
              "<div>\n",
              "<style scoped>\n",
              "    .dataframe tbody tr th:only-of-type {\n",
              "        vertical-align: middle;\n",
              "    }\n",
              "\n",
              "    .dataframe tbody tr th {\n",
              "        vertical-align: top;\n",
              "    }\n",
              "\n",
              "    .dataframe thead th {\n",
              "        text-align: right;\n",
              "    }\n",
              "</style>\n",
              "<table border=\"1\" class=\"dataframe\">\n",
              "  <thead>\n",
              "    <tr style=\"text-align: right;\">\n",
              "      <th></th>\n",
              "      <th>TAX</th>\n",
              "    </tr>\n",
              "  </thead>\n",
              "  <tbody>\n",
              "    <tr>\n",
              "      <th>count</th>\n",
              "      <td>5802.000000</td>\n",
              "    </tr>\n",
              "    <tr>\n",
              "      <th>mean</th>\n",
              "      <td>4939.485867</td>\n",
              "    </tr>\n",
              "    <tr>\n",
              "      <th>std</th>\n",
              "      <td>1247.649118</td>\n",
              "    </tr>\n",
              "    <tr>\n",
              "      <th>min</th>\n",
              "      <td>1320.000000</td>\n",
              "    </tr>\n",
              "    <tr>\n",
              "      <th>25%</th>\n",
              "      <td>4089.500000</td>\n",
              "    </tr>\n",
              "    <tr>\n",
              "      <th>50%</th>\n",
              "      <td>4728.000000</td>\n",
              "    </tr>\n",
              "    <tr>\n",
              "      <th>75%</th>\n",
              "      <td>5519.500000</td>\n",
              "    </tr>\n",
              "    <tr>\n",
              "      <th>max</th>\n",
              "      <td>15319.000000</td>\n",
              "    </tr>\n",
              "  </tbody>\n",
              "</table>\n",
              "</div>"
            ],
            "text/plain": [
              "                TAX\n",
              "count   5802.000000\n",
              "mean    4939.485867\n",
              "std     1247.649118\n",
              "min     1320.000000\n",
              "25%     4089.500000\n",
              "50%     4728.000000\n",
              "75%     5519.500000\n",
              "max    15319.000000"
            ]
          },
          "metadata": {
            "tags": []
          },
          "execution_count": 67
        }
      ]
    }
  ]
}